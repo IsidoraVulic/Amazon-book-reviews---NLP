{
  "cells": [
    {
      "cell_type": "markdown",
      "id": "kYK2_urydIs6",
      "metadata": {
        "id": "kYK2_urydIs6"
      },
      "source": [
        "# Importing necessary libraries"
      ]
    },
    {
      "cell_type": "code",
      "execution_count": null,
      "id": "8bf89966",
      "metadata": {
        "colab": {
          "base_uri": "https://localhost:8080/"
        },
        "id": "8bf89966",
        "outputId": "cb71e067-a4b4-4015-e6d8-3953844ea862"
      },
      "outputs": [
        {
          "name": "stdout",
          "output_type": "stream",
          "text": [
            "Mounted at /content/drive\n"
          ]
        }
      ],
      "source": [
        "import pandas as pd\n",
        "import numpy as np\n",
        "import math\n",
        "\n",
        "from google.colab import drive\n",
        "drive.mount('/content/drive')\n",
        "\n",
        "pd.options.display.max_rows = 999"
      ]
    },
    {
      "cell_type": "markdown",
      "id": "55q3dR7UdDAh",
      "metadata": {
        "id": "55q3dR7UdDAh"
      },
      "source": [
        "# Reading the data"
      ]
    },
    {
      "cell_type": "code",
      "execution_count": null,
      "id": "fb110f6c",
      "metadata": {
        "id": "fb110f6c"
      },
      "outputs": [],
      "source": [
        "books = pd.read_csv('/content/drive/My Drive/Colab Notebooks/books_data.csv')"
      ]
    },
    {
      "cell_type": "code",
      "execution_count": null,
      "id": "55SW5QmWm6rC",
      "metadata": {
        "colab": {
          "base_uri": "https://localhost:8080/"
        },
        "id": "55SW5QmWm6rC",
        "outputId": "03f3322f-6ef4-4fde-d5e7-e50c27a8365c"
      },
      "outputs": [
        {
          "name": "stdout",
          "output_type": "stream",
          "text": [
            "<class 'pandas.core.frame.DataFrame'>\n",
            "RangeIndex: 212404 entries, 0 to 212403\n",
            "Data columns (total 10 columns):\n",
            " #   Column         Non-Null Count   Dtype  \n",
            "---  ------         --------------   -----  \n",
            " 0   Title          212403 non-null  object \n",
            " 1   description    143962 non-null  object \n",
            " 2   authors        180991 non-null  object \n",
            " 3   image          160329 non-null  object \n",
            " 4   previewLink    188568 non-null  object \n",
            " 5   publisher      136518 non-null  object \n",
            " 6   publishedDate  187099 non-null  object \n",
            " 7   infoLink       188568 non-null  object \n",
            " 8   categories     171205 non-null  object \n",
            " 9   ratingsCount   49752 non-null   float64\n",
            "dtypes: float64(1), object(9)\n",
            "memory usage: 16.2+ MB\n"
          ]
        }
      ],
      "source": [
        "books.info()"
      ]
    },
    {
      "cell_type": "code",
      "execution_count": null,
      "id": "9RKtVJ6Sm_sS",
      "metadata": {
        "colab": {
          "base_uri": "https://localhost:8080/"
        },
        "id": "9RKtVJ6Sm_sS",
        "outputId": "5799ad3e-b624-4eff-a843-239715925fe5"
      },
      "outputs": [
        {
          "data": {
            "text/plain": [
              "Title            0.000005\n",
              "description      0.322226\n",
              "authors          0.147893\n",
              "image            0.245170\n",
              "previewLink      0.112220\n",
              "publisher        0.357272\n",
              "publishedDate    0.119136\n",
              "infoLink         0.112220\n",
              "categories       0.193965\n",
              "ratingsCount     0.765767\n",
              "dtype: float64"
            ]
          },
          "execution_count": 4,
          "metadata": {},
          "output_type": "execute_result"
        }
      ],
      "source": [
        "books.isna().sum()/books.shape[0]"
      ]
    },
    {
      "cell_type": "code",
      "execution_count": null,
      "id": "703e6343",
      "metadata": {
        "id": "703e6343"
      },
      "outputs": [],
      "source": [
        "ratings = pd.read_csv('/content/drive/My Drive/Colab Notebooks/Books_rating.csv')"
      ]
    },
    {
      "cell_type": "code",
      "execution_count": null,
      "id": "UTZfCit0nbxq",
      "metadata": {
        "colab": {
          "base_uri": "https://localhost:8080/"
        },
        "id": "UTZfCit0nbxq",
        "outputId": "82737a4a-95d5-4fcf-fb9a-29aa8a4a1f62"
      },
      "outputs": [
        {
          "name": "stdout",
          "output_type": "stream",
          "text": [
            "<class 'pandas.core.frame.DataFrame'>\n",
            "RangeIndex: 3000000 entries, 0 to 2999999\n",
            "Data columns (total 10 columns):\n",
            " #   Column              Dtype  \n",
            "---  ------              -----  \n",
            " 0   Id                  object \n",
            " 1   Title               object \n",
            " 2   Price               float64\n",
            " 3   User_id             object \n",
            " 4   profileName         object \n",
            " 5   review/helpfulness  object \n",
            " 6   review/score        float64\n",
            " 7   review/time         int64  \n",
            " 8   review/summary      object \n",
            " 9   review/text         object \n",
            "dtypes: float64(2), int64(1), object(7)\n",
            "memory usage: 228.9+ MB\n"
          ]
        }
      ],
      "source": [
        "ratings.info()"
      ]
    },
    {
      "cell_type": "code",
      "execution_count": null,
      "id": "sx4ccUYojvXW",
      "metadata": {
        "colab": {
          "base_uri": "https://localhost:8080/",
          "height": 371
        },
        "id": "sx4ccUYojvXW",
        "outputId": "1f3a7dea-1e60-4db0-aafe-e74425796762"
      },
      "outputs": [
        {
          "data": {
            "text/html": [
              "\n",
              "  <div id=\"df-1cee9615-e368-42fd-b92c-f7e04f541454\">\n",
              "    <div class=\"colab-df-container\">\n",
              "      <div>\n",
              "<style scoped>\n",
              "    .dataframe tbody tr th:only-of-type {\n",
              "        vertical-align: middle;\n",
              "    }\n",
              "\n",
              "    .dataframe tbody tr th {\n",
              "        vertical-align: top;\n",
              "    }\n",
              "\n",
              "    .dataframe thead th {\n",
              "        text-align: right;\n",
              "    }\n",
              "</style>\n",
              "<table border=\"1\" class=\"dataframe\">\n",
              "  <thead>\n",
              "    <tr style=\"text-align: right;\">\n",
              "      <th></th>\n",
              "      <th>Id</th>\n",
              "      <th>Title</th>\n",
              "      <th>Price</th>\n",
              "      <th>User_id</th>\n",
              "      <th>profileName</th>\n",
              "      <th>review/helpfulness</th>\n",
              "      <th>review/score</th>\n",
              "      <th>review/time</th>\n",
              "      <th>review/summary</th>\n",
              "      <th>review/text</th>\n",
              "    </tr>\n",
              "  </thead>\n",
              "  <tbody>\n",
              "    <tr>\n",
              "      <th>0</th>\n",
              "      <td>1882931173</td>\n",
              "      <td>Its Only Art If Its Well Hung!</td>\n",
              "      <td>NaN</td>\n",
              "      <td>AVCGYZL8FQQTD</td>\n",
              "      <td>Jim of Oz \"jim-of-oz\"</td>\n",
              "      <td>7/7</td>\n",
              "      <td>4.0</td>\n",
              "      <td>940636800</td>\n",
              "      <td>Nice collection of Julie Strain images</td>\n",
              "      <td>This is only for Julie Strain fans. It's a col...</td>\n",
              "    </tr>\n",
              "    <tr>\n",
              "      <th>1</th>\n",
              "      <td>0826414346</td>\n",
              "      <td>Dr. Seuss: American Icon</td>\n",
              "      <td>NaN</td>\n",
              "      <td>A30TK6U7DNS82R</td>\n",
              "      <td>Kevin Killian</td>\n",
              "      <td>10/10</td>\n",
              "      <td>5.0</td>\n",
              "      <td>1095724800</td>\n",
              "      <td>Really Enjoyed It</td>\n",
              "      <td>I don't care much for Dr. Seuss but after read...</td>\n",
              "    </tr>\n",
              "    <tr>\n",
              "      <th>2</th>\n",
              "      <td>0826414346</td>\n",
              "      <td>Dr. Seuss: American Icon</td>\n",
              "      <td>NaN</td>\n",
              "      <td>A3UH4UZ4RSVO82</td>\n",
              "      <td>John Granger</td>\n",
              "      <td>10/11</td>\n",
              "      <td>5.0</td>\n",
              "      <td>1078790400</td>\n",
              "      <td>Essential for every personal and Public Library</td>\n",
              "      <td>If people become the books they read and if \"t...</td>\n",
              "    </tr>\n",
              "    <tr>\n",
              "      <th>3</th>\n",
              "      <td>0826414346</td>\n",
              "      <td>Dr. Seuss: American Icon</td>\n",
              "      <td>NaN</td>\n",
              "      <td>A2MVUWT453QH61</td>\n",
              "      <td>Roy E. Perry \"amateur philosopher\"</td>\n",
              "      <td>7/7</td>\n",
              "      <td>4.0</td>\n",
              "      <td>1090713600</td>\n",
              "      <td>Phlip Nel gives silly Seuss a serious treatment</td>\n",
              "      <td>Theodore Seuss Geisel (1904-1991), aka &amp;quot;D...</td>\n",
              "    </tr>\n",
              "    <tr>\n",
              "      <th>4</th>\n",
              "      <td>0826414346</td>\n",
              "      <td>Dr. Seuss: American Icon</td>\n",
              "      <td>NaN</td>\n",
              "      <td>A22X4XUPKF66MR</td>\n",
              "      <td>D. H. Richards \"ninthwavestore\"</td>\n",
              "      <td>3/3</td>\n",
              "      <td>4.0</td>\n",
              "      <td>1107993600</td>\n",
              "      <td>Good academic overview</td>\n",
              "      <td>Philip Nel - Dr. Seuss: American IconThis is b...</td>\n",
              "    </tr>\n",
              "  </tbody>\n",
              "</table>\n",
              "</div>\n",
              "      <button class=\"colab-df-convert\" onclick=\"convertToInteractive('df-1cee9615-e368-42fd-b92c-f7e04f541454')\"\n",
              "              title=\"Convert this dataframe to an interactive table.\"\n",
              "              style=\"display:none;\">\n",
              "        \n",
              "  <svg xmlns=\"http://www.w3.org/2000/svg\" height=\"24px\"viewBox=\"0 0 24 24\"\n",
              "       width=\"24px\">\n",
              "    <path d=\"M0 0h24v24H0V0z\" fill=\"none\"/>\n",
              "    <path d=\"M18.56 5.44l.94 2.06.94-2.06 2.06-.94-2.06-.94-.94-2.06-.94 2.06-2.06.94zm-11 1L8.5 8.5l.94-2.06 2.06-.94-2.06-.94L8.5 2.5l-.94 2.06-2.06.94zm10 10l.94 2.06.94-2.06 2.06-.94-2.06-.94-.94-2.06-.94 2.06-2.06.94z\"/><path d=\"M17.41 7.96l-1.37-1.37c-.4-.4-.92-.59-1.43-.59-.52 0-1.04.2-1.43.59L10.3 9.45l-7.72 7.72c-.78.78-.78 2.05 0 2.83L4 21.41c.39.39.9.59 1.41.59.51 0 1.02-.2 1.41-.59l7.78-7.78 2.81-2.81c.8-.78.8-2.07 0-2.86zM5.41 20L4 18.59l7.72-7.72 1.47 1.35L5.41 20z\"/>\n",
              "  </svg>\n",
              "      </button>\n",
              "      \n",
              "  <style>\n",
              "    .colab-df-container {\n",
              "      display:flex;\n",
              "      flex-wrap:wrap;\n",
              "      gap: 12px;\n",
              "    }\n",
              "\n",
              "    .colab-df-convert {\n",
              "      background-color: #E8F0FE;\n",
              "      border: none;\n",
              "      border-radius: 50%;\n",
              "      cursor: pointer;\n",
              "      display: none;\n",
              "      fill: #1967D2;\n",
              "      height: 32px;\n",
              "      padding: 0 0 0 0;\n",
              "      width: 32px;\n",
              "    }\n",
              "\n",
              "    .colab-df-convert:hover {\n",
              "      background-color: #E2EBFA;\n",
              "      box-shadow: 0px 1px 2px rgba(60, 64, 67, 0.3), 0px 1px 3px 1px rgba(60, 64, 67, 0.15);\n",
              "      fill: #174EA6;\n",
              "    }\n",
              "\n",
              "    [theme=dark] .colab-df-convert {\n",
              "      background-color: #3B4455;\n",
              "      fill: #D2E3FC;\n",
              "    }\n",
              "\n",
              "    [theme=dark] .colab-df-convert:hover {\n",
              "      background-color: #434B5C;\n",
              "      box-shadow: 0px 1px 3px 1px rgba(0, 0, 0, 0.15);\n",
              "      filter: drop-shadow(0px 1px 2px rgba(0, 0, 0, 0.3));\n",
              "      fill: #FFFFFF;\n",
              "    }\n",
              "  </style>\n",
              "\n",
              "      <script>\n",
              "        const buttonEl =\n",
              "          document.querySelector('#df-1cee9615-e368-42fd-b92c-f7e04f541454 button.colab-df-convert');\n",
              "        buttonEl.style.display =\n",
              "          google.colab.kernel.accessAllowed ? 'block' : 'none';\n",
              "\n",
              "        async function convertToInteractive(key) {\n",
              "          const element = document.querySelector('#df-1cee9615-e368-42fd-b92c-f7e04f541454');\n",
              "          const dataTable =\n",
              "            await google.colab.kernel.invokeFunction('convertToInteractive',\n",
              "                                                     [key], {});\n",
              "          if (!dataTable) return;\n",
              "\n",
              "          const docLinkHtml = 'Like what you see? Visit the ' +\n",
              "            '<a target=\"_blank\" href=https://colab.research.google.com/notebooks/data_table.ipynb>data table notebook</a>'\n",
              "            + ' to learn more about interactive tables.';\n",
              "          element.innerHTML = '';\n",
              "          dataTable['output_type'] = 'display_data';\n",
              "          await google.colab.output.renderOutput(dataTable, element);\n",
              "          const docLink = document.createElement('div');\n",
              "          docLink.innerHTML = docLinkHtml;\n",
              "          element.appendChild(docLink);\n",
              "        }\n",
              "      </script>\n",
              "    </div>\n",
              "  </div>\n",
              "  "
            ],
            "text/plain": [
              "           Id                           Title  Price         User_id  \\\n",
              "0  1882931173  Its Only Art If Its Well Hung!    NaN   AVCGYZL8FQQTD   \n",
              "1  0826414346        Dr. Seuss: American Icon    NaN  A30TK6U7DNS82R   \n",
              "2  0826414346        Dr. Seuss: American Icon    NaN  A3UH4UZ4RSVO82   \n",
              "3  0826414346        Dr. Seuss: American Icon    NaN  A2MVUWT453QH61   \n",
              "4  0826414346        Dr. Seuss: American Icon    NaN  A22X4XUPKF66MR   \n",
              "\n",
              "                          profileName review/helpfulness  review/score  \\\n",
              "0               Jim of Oz \"jim-of-oz\"                7/7           4.0   \n",
              "1                       Kevin Killian              10/10           5.0   \n",
              "2                        John Granger              10/11           5.0   \n",
              "3  Roy E. Perry \"amateur philosopher\"                7/7           4.0   \n",
              "4     D. H. Richards \"ninthwavestore\"                3/3           4.0   \n",
              "\n",
              "   review/time                                   review/summary  \\\n",
              "0    940636800           Nice collection of Julie Strain images   \n",
              "1   1095724800                                Really Enjoyed It   \n",
              "2   1078790400  Essential for every personal and Public Library   \n",
              "3   1090713600  Phlip Nel gives silly Seuss a serious treatment   \n",
              "4   1107993600                           Good academic overview   \n",
              "\n",
              "                                         review/text  \n",
              "0  This is only for Julie Strain fans. It's a col...  \n",
              "1  I don't care much for Dr. Seuss but after read...  \n",
              "2  If people become the books they read and if \"t...  \n",
              "3  Theodore Seuss Geisel (1904-1991), aka &quot;D...  \n",
              "4  Philip Nel - Dr. Seuss: American IconThis is b...  "
            ]
          },
          "execution_count": 7,
          "metadata": {},
          "output_type": "execute_result"
        }
      ],
      "source": [
        "ratings.head()"
      ]
    },
    {
      "cell_type": "markdown",
      "id": "B2CdlBjcddx5",
      "metadata": {
        "id": "B2CdlBjcddx5"
      },
      "source": [
        "# Cleaning Books"
      ]
    },
    {
      "cell_type": "code",
      "execution_count": null,
      "id": "697MAN1uWfDu",
      "metadata": {
        "colab": {
          "base_uri": "https://localhost:8080/"
        },
        "id": "697MAN1uWfDu",
        "outputId": "8d445f96-800d-4530-9e2f-2e663cb139f6"
      },
      "outputs": [
        {
          "name": "stdout",
          "output_type": "stream",
          "text": [
            "<class 'pandas.core.frame.DataFrame'>\n",
            "RangeIndex: 212404 entries, 0 to 212403\n",
            "Data columns (total 10 columns):\n",
            " #   Column         Non-Null Count   Dtype  \n",
            "---  ------         --------------   -----  \n",
            " 0   Title          212403 non-null  object \n",
            " 1   description    143962 non-null  object \n",
            " 2   authors        180991 non-null  object \n",
            " 3   image          160329 non-null  object \n",
            " 4   previewLink    188568 non-null  object \n",
            " 5   publisher      136518 non-null  object \n",
            " 6   publishedDate  187099 non-null  object \n",
            " 7   infoLink       188568 non-null  object \n",
            " 8   categories     171205 non-null  object \n",
            " 9   ratingsCount   49752 non-null   float64\n",
            "dtypes: float64(1), object(9)\n",
            "memory usage: 16.2+ MB\n"
          ]
        }
      ],
      "source": [
        "books.info()"
      ]
    },
    {
      "cell_type": "code",
      "execution_count": null,
      "id": "54bdda8d",
      "metadata": {
        "colab": {
          "base_uri": "https://localhost:8080/"
        },
        "id": "54bdda8d",
        "outputId": "a96607ed-87b5-4c0f-9fe7-cfc3801d4e0b"
      },
      "outputs": [
        {
          "data": {
            "text/plain": [
              "1"
            ]
          },
          "execution_count": 9,
          "metadata": {},
          "output_type": "execute_result"
        }
      ],
      "source": [
        "books['Title'].isna().sum()"
      ]
    },
    {
      "cell_type": "code",
      "execution_count": null,
      "id": "ncXiG2I2Numu",
      "metadata": {
        "colab": {
          "base_uri": "https://localhost:8080/"
        },
        "id": "ncXiG2I2Numu",
        "outputId": "00fb770d-0c64-45c3-e6fc-fc3d8174a714"
      },
      "outputs": [
        {
          "data": {
            "text/plain": [
              "0"
            ]
          },
          "execution_count": 10,
          "metadata": {},
          "output_type": "execute_result"
        }
      ],
      "source": [
        "books = books.drop(books[books['Title'].isna()].index)\n",
        "books['Title'].isna().sum()"
      ]
    },
    {
      "cell_type": "code",
      "execution_count": null,
      "id": "dbdj8_4LZ8z5",
      "metadata": {
        "id": "dbdj8_4LZ8z5"
      },
      "outputs": [],
      "source": [
        "authors_as_str = books.authors.apply(lambda x: str(x))"
      ]
    },
    {
      "cell_type": "code",
      "execution_count": null,
      "id": "hMy0E1goN0Gt",
      "metadata": {
        "id": "hMy0E1goN0Gt"
      },
      "outputs": [],
      "source": [
        "books.authors = authors_as_str\n",
        "\n",
        "def pomocna(losalista):\n",
        "  dobralista = []\n",
        "  dobralista = [a.strip('[\\'\\\"]') for a in losalista]\n",
        "  return dobralista\n",
        "\n",
        "books.authors = books.authors.apply(lambda x: pomocna(x.split(\", \")) if x != 'nan' else None)"
      ]
    },
    {
      "cell_type": "code",
      "execution_count": null,
      "id": "8F57tMHsWMvf",
      "metadata": {
        "colab": {
          "base_uri": "https://localhost:8080/"
        },
        "id": "8F57tMHsWMvf",
        "outputId": "36cf3e73-d2ab-4c26-8c79-41655fb52a01"
      },
      "outputs": [
        {
          "name": "stdout",
          "output_type": "stream",
          "text": [
            "<class 'pandas.core.frame.DataFrame'>\n",
            "Int64Index: 212403 entries, 0 to 212403\n",
            "Data columns (total 10 columns):\n",
            " #   Column         Non-Null Count   Dtype  \n",
            "---  ------         --------------   -----  \n",
            " 0   Title          212403 non-null  object \n",
            " 1   description    143962 non-null  object \n",
            " 2   authors        180990 non-null  object \n",
            " 3   image          160328 non-null  object \n",
            " 4   previewLink    188567 non-null  object \n",
            " 5   publisher      136518 non-null  object \n",
            " 6   publishedDate  187098 non-null  object \n",
            " 7   infoLink       188567 non-null  object \n",
            " 8   categories     171205 non-null  object \n",
            " 9   ratingsCount   49751 non-null   float64\n",
            "dtypes: float64(1), object(9)\n",
            "memory usage: 17.8+ MB\n"
          ]
        }
      ],
      "source": [
        "books.info()"
      ]
    },
    {
      "cell_type": "code",
      "execution_count": null,
      "id": "Vb0lu0mieAxS",
      "metadata": {
        "id": "Vb0lu0mieAxS"
      },
      "outputs": [],
      "source": [
        "books.drop('image', axis=1, inplace=True)\n",
        "books.drop('previewLink', axis=1, inplace=True)\n",
        "books.drop('infoLink', axis=1, inplace=True)"
      ]
    },
    {
      "cell_type": "code",
      "execution_count": null,
      "id": "lc_0Euvf2csI",
      "metadata": {
        "id": "lc_0Euvf2csI"
      },
      "outputs": [],
      "source": [
        "categories_as_str = books['categories'].astype('string')"
      ]
    },
    {
      "cell_type": "code",
      "execution_count": null,
      "id": "QMN620Ii5Pnj",
      "metadata": {
        "id": "QMN620Ii5Pnj"
      },
      "outputs": [],
      "source": [
        "books.categories = categories_as_str\n",
        "\n",
        "books.categories = books.categories.apply(lambda x: x.strip('[\\'\\\"]') if isinstance(x, pd._libs.missing.NAType) == False else None)"
      ]
    },
    {
      "cell_type": "code",
      "execution_count": null,
      "id": "FGM2se2m5tj_",
      "metadata": {
        "id": "FGM2se2m5tj_"
      },
      "outputs": [],
      "source": [
        "books['categories'] = books['categories'].astype('string')"
      ]
    },
    {
      "cell_type": "code",
      "execution_count": null,
      "id": "0zUiNpP4oQCK",
      "metadata": {
        "colab": {
          "base_uri": "https://localhost:8080/"
        },
        "id": "0zUiNpP4oQCK",
        "outputId": "6e6caa17-db68-4036-ffa1-7b36546e6500"
      },
      "outputs": [
        {
          "data": {
            "text/plain": [
              "0"
            ]
          },
          "execution_count": 18,
          "metadata": {},
          "output_type": "execute_result"
        }
      ],
      "source": [
        "books.duplicated(subset='Title').sum() #nema duplikata"
      ]
    },
    {
      "cell_type": "code",
      "execution_count": null,
      "id": "XwvjjZgyoXCe",
      "metadata": {
        "colab": {
          "base_uri": "https://localhost:8080/"
        },
        "id": "XwvjjZgyoXCe",
        "outputId": "9523f7fb-407d-4feb-9b36-809d41691c2e"
      },
      "outputs": [
        {
          "data": {
            "text/plain": [
              "(212403, 7)"
            ]
          },
          "execution_count": 19,
          "metadata": {},
          "output_type": "execute_result"
        }
      ],
      "source": [
        "books.shape"
      ]
    },
    {
      "cell_type": "code",
      "execution_count": null,
      "id": "tdeEwdTEX-eg",
      "metadata": {
        "id": "tdeEwdTEX-eg"
      },
      "outputs": [],
      "source": [
        "books['Title'] = books['Title'].astype('string')"
      ]
    },
    {
      "cell_type": "code",
      "execution_count": null,
      "id": "HEpsEsqSYKc0",
      "metadata": {
        "colab": {
          "base_uri": "https://localhost:8080/"
        },
        "id": "HEpsEsqSYKc0",
        "outputId": "80113b40-25a9-42f4-ecf7-f103ee700a79"
      },
      "outputs": [
        {
          "name": "stdout",
          "output_type": "stream",
          "text": [
            "<class 'pandas.core.frame.DataFrame'>\n",
            "Int64Index: 212403 entries, 0 to 212403\n",
            "Data columns (total 7 columns):\n",
            " #   Column         Non-Null Count   Dtype  \n",
            "---  ------         --------------   -----  \n",
            " 0   Title          212403 non-null  string \n",
            " 1   description    143962 non-null  object \n",
            " 2   authors        180990 non-null  object \n",
            " 3   publisher      136518 non-null  object \n",
            " 4   publishedDate  187098 non-null  object \n",
            " 5   categories     171205 non-null  string \n",
            " 6   ratingsCount   49751 non-null   float64\n",
            "dtypes: float64(1), object(4), string(2)\n",
            "memory usage: 13.0+ MB\n"
          ]
        }
      ],
      "source": [
        "books.info()"
      ]
    },
    {
      "cell_type": "code",
      "execution_count": null,
      "id": "oCpxkM6mastZ",
      "metadata": {
        "id": "oCpxkM6mastZ"
      },
      "outputs": [],
      "source": [
        "description_as_str = books['description'].astype('string')"
      ]
    },
    {
      "cell_type": "code",
      "execution_count": null,
      "id": "FHJuzL6DYNhF",
      "metadata": {
        "id": "FHJuzL6DYNhF"
      },
      "outputs": [],
      "source": [
        "books.description = description_as_str\n",
        "\n",
        "books.description = books.description.apply(lambda x: x if isinstance(x, pd._libs.missing.NAType) == False else None)"
      ]
    },
    {
      "cell_type": "code",
      "execution_count": null,
      "id": "LjHZu_wEZxlo",
      "metadata": {
        "id": "LjHZu_wEZxlo"
      },
      "outputs": [],
      "source": [
        "books['description'] = books['description'].astype('string')"
      ]
    },
    {
      "cell_type": "code",
      "execution_count": null,
      "id": "GVRagBdZbQlH",
      "metadata": {
        "colab": {
          "base_uri": "https://localhost:8080/"
        },
        "id": "GVRagBdZbQlH",
        "outputId": "d412c073-0cbf-479d-c9a4-dd53a9c01c66"
      },
      "outputs": [
        {
          "name": "stdout",
          "output_type": "stream",
          "text": [
            "Duplicated:\t196386\n",
            "Unique:\t\t16016\n",
            "NA:\t\t75885\n"
          ]
        }
      ],
      "source": [
        "print(f\"Duplicated:\\t{books.duplicated(subset='publisher').sum()}\")\n",
        "print(f\"Unique:\\t\\t{books.publisher.nunique()}\")\n",
        "print(f\"NA:\\t\\t{books.publisher.isna().sum()}\")\n"
      ]
    },
    {
      "cell_type": "code",
      "execution_count": null,
      "id": "HXm2Afd6cpFC",
      "metadata": {
        "id": "HXm2Afd6cpFC"
      },
      "outputs": [],
      "source": [
        "publisher_as_str = books['publisher'].astype('string')"
      ]
    },
    {
      "cell_type": "code",
      "execution_count": null,
      "id": "Gc2CxoiLdLgb",
      "metadata": {
        "id": "Gc2CxoiLdLgb"
      },
      "outputs": [],
      "source": [
        "books.publisher = publisher_as_str\n",
        "books.publisher = books.publisher.apply(lambda x: x if isinstance(x, pd._libs.missing.NAType) == False else None)"
      ]
    },
    {
      "cell_type": "code",
      "execution_count": null,
      "id": "Nz70M9XDdd2Q",
      "metadata": {
        "id": "Nz70M9XDdd2Q"
      },
      "outputs": [],
      "source": [
        "books['publisher'] = books['publisher'].astype('string')"
      ]
    },
    {
      "cell_type": "code",
      "execution_count": null,
      "id": "YvaamczWdgzl",
      "metadata": {
        "colab": {
          "base_uri": "https://localhost:8080/"
        },
        "id": "YvaamczWdgzl",
        "outputId": "f59e7d17-4e84-4d41-8bf6-5a6038e69f2c"
      },
      "outputs": [
        {
          "name": "stdout",
          "output_type": "stream",
          "text": [
            "Duplicated:\t200820\n",
            "Unique:\t\t11582\n",
            "NA:\t\t25305\n"
          ]
        }
      ],
      "source": [
        "print(f\"Duplicated:\\t{books.duplicated(subset='publishedDate').sum()}\")\n",
        "print(f\"Unique:\\t\\t{books.publishedDate.nunique()}\")\n",
        "print(f\"NA:\\t\\t{books.publishedDate.isna().sum()}\")"
      ]
    },
    {
      "cell_type": "code",
      "execution_count": null,
      "id": "VNW2lojReW1s",
      "metadata": {
        "id": "VNW2lojReW1s"
      },
      "outputs": [],
      "source": [
        "books['publishedDate'] = books['publishedDate'].apply(lambda x: x if isinstance(x, float) == False else None)"
      ]
    },
    {
      "cell_type": "markdown",
      "id": "xLUK_QjG5dKQ",
      "metadata": {
        "id": "xLUK_QjG5dKQ"
      },
      "source": [
        "Spajanje imena i prezimena autora"
      ]
    },
    {
      "cell_type": "code",
      "execution_count": null,
      "id": "4dc1z9B064JZ",
      "metadata": {
        "id": "4dc1z9B064JZ"
      },
      "outputs": [],
      "source": [
        "prvih_40 = books.head(40)"
      ]
    },
    {
      "cell_type": "code",
      "execution_count": null,
      "id": "-0Dgk2o85blW",
      "metadata": {
        "colab": {
          "base_uri": "https://localhost:8080/"
        },
        "id": "-0Dgk2o85blW",
        "outputId": "6bc6882b-4479-4517-8329-2b8f8e29f615"
      },
      "outputs": [
        {
          "name": "stderr",
          "output_type": "stream",
          "text": [
            "<ipython-input-32-9275d0245794>:12: SettingWithCopyWarning: \n",
            "A value is trying to be set on a copy of a slice from a DataFrame.\n",
            "Try using .loc[row_indexer,col_indexer] = value instead\n",
            "\n",
            "See the caveats in the documentation: https://pandas.pydata.org/pandas-docs/stable/user_guide/indexing.html#returning-a-view-versus-a-copy\n",
            "  prvih_40['authors'] = prvih_40['authors'].apply(concatenate_column)\n"
          ]
        }
      ],
      "source": [
        "def concatenate_column(column):\n",
        "  try:\n",
        "    def clean_text(author):\n",
        "        names = author.split(' ')\n",
        "        cleaned_names = [name.lower() for name in names]\n",
        "        return ''.join(cleaned_names)\n",
        "\n",
        "    concatenated_text = ' '.join(clean_text(obj) for obj in column)\n",
        "    return concatenated_text\n",
        "  except TypeError:\n",
        "    pass\n",
        "prvih_40['authors'] = prvih_40['authors'].apply(concatenate_column)\n"
      ]
    },
    {
      "cell_type": "code",
      "execution_count": null,
      "id": "SiXlJt4971LZ",
      "metadata": {
        "colab": {
          "base_uri": "https://localhost:8080/"
        },
        "id": "SiXlJt4971LZ",
        "outputId": "ce9f431b-968d-4d3f-9066-a2707c968294"
      },
      "outputs": [
        {
          "data": {
            "text/plain": [
              "0                                           juliestrain\n",
              "1                                             philipnel\n",
              "2                                            davidr.ray\n",
              "3                                        veronicahaddon\n",
              "4                                            edwardlong\n",
              "5                                       everettferguson\n",
              "6                                     miriamallendeford\n",
              "7                                           leeblessing\n",
              "8                                    maryfabyanwindeatt\n",
              "9                                         stevenwardell\n",
              "10                       camilliafawziel-solh judymabro\n",
              "11                                   armandosaldaa-mora\n",
              "12                                  evelynb.christensen\n",
              "13                             allengersho robertm.gray\n",
              "14                                            frankowen\n",
              "15                                           barrycrump\n",
              "16                                          fionacownie\n",
              "17                                     rochellegurstein\n",
              "18                                      kennethh.cooper\n",
              "19                                           ruthallman\n",
              "20                                           robertkane\n",
              "21    dorlingkindersleypublishingstaff jonathanbousf...\n",
              "22                                           howardhill\n",
              "23                                                   dk\n",
              "24                                   soniarivera-valdes\n",
              "25                                        arthurj.droge\n",
              "26                                         donaldlaming\n",
              "27                                          johnt.morse\n",
              "28                                      steverichardson\n",
              "29                                           johnadrian\n",
              "30                              nationalportraitgallery\n",
              "31                                           rupertfike\n",
              "32                                           e.b.harvey\n",
              "33                                      stefandraminski\n",
              "34                                 raymondcharlesbarker\n",
              "35                                                 None\n",
              "36               lorenzbooks margaretmalone pauljackson\n",
              "37                                      kristinramsdell\n",
              "38                               nationalgeographicmaps\n",
              "39                                        jeffreym.bale\n",
              "Name: authors, dtype: object"
            ]
          },
          "execution_count": 33,
          "metadata": {},
          "output_type": "execute_result"
        }
      ],
      "source": [
        "prvih_40['authors'] #test"
      ]
    },
    {
      "cell_type": "code",
      "execution_count": null,
      "id": "VkuxRJU29pK8",
      "metadata": {
        "colab": {
          "base_uri": "https://localhost:8080/"
        },
        "id": "VkuxRJU29pK8",
        "outputId": "14fafc7a-c4dd-4878-8fc1-d8d3d6a06ad5"
      },
      "outputs": [
        {
          "data": {
            "text/plain": [
              "31413"
            ]
          },
          "execution_count": 34,
          "metadata": {},
          "output_type": "execute_result"
        }
      ],
      "source": [
        "books['authors'].isna().sum()"
      ]
    },
    {
      "cell_type": "code",
      "execution_count": null,
      "id": "6Uvg2Jnr8O2k",
      "metadata": {
        "id": "6Uvg2Jnr8O2k"
      },
      "outputs": [],
      "source": [
        "\n",
        "books['authors'] = books['authors'].apply(concatenate_column)\n"
      ]
    },
    {
      "cell_type": "code",
      "execution_count": null,
      "id": "WK4NBkbjDIhb",
      "metadata": {
        "colab": {
          "base_uri": "https://localhost:8080/"
        },
        "id": "WK4NBkbjDIhb",
        "outputId": "9f79626a-d267-4102-83b1-3ea28f2d4d7c"
      },
      "outputs": [
        {
          "data": {
            "text/plain": [
              "0                          juliestrain\n",
              "1                            philipnel\n",
              "2                           davidr.ray\n",
              "3                       veronicahaddon\n",
              "4                           edwardlong\n",
              "                      ...             \n",
              "212399                  elvirawoodruff\n",
              "212400                            None\n",
              "212401                 wildwildcabbage\n",
              "212402                      zadiesmith\n",
              "212403    davidb.johnson thomasa.mowry\n",
              "Name: authors, Length: 212403, dtype: object"
            ]
          },
          "execution_count": 36,
          "metadata": {},
          "output_type": "execute_result"
        }
      ],
      "source": [
        "books['authors']"
      ]
    },
    {
      "cell_type": "code",
      "execution_count": null,
      "id": "LQDscYJ2el30",
      "metadata": {
        "colab": {
          "base_uri": "https://localhost:8080/"
        },
        "id": "LQDscYJ2el30",
        "outputId": "23319997-c094-4bf6-d6ff-765224724ed7"
      },
      "outputs": [
        {
          "name": "stdout",
          "output_type": "stream",
          "text": [
            "<class 'pandas.core.frame.DataFrame'>\n",
            "Int64Index: 212345 entries, 0 to 212403\n",
            "Data columns (total 7 columns):\n",
            " #   Column         Non-Null Count   Dtype  \n",
            "---  ------         --------------   -----  \n",
            " 0   Title          212345 non-null  string \n",
            " 1   description    143945 non-null  string \n",
            " 2   authors        180946 non-null  object \n",
            " 3   publisher      136504 non-null  string \n",
            " 4   categories     171171 non-null  string \n",
            " 5   ratingsCount   49748 non-null   float64\n",
            " 6   publishedYear  212345 non-null  int64  \n",
            "dtypes: float64(1), int64(1), object(1), string(4)\n",
            "memory usage: 13.0+ MB\n"
          ]
        }
      ],
      "source": [
        "books['publishedDate'] = books['publishedDate'].apply(lambda x: x.strip('*?') if not x == None else None)\n",
        "books['publishedYear'] = books['publishedDate'].apply(lambda x: x[0:4] if not x == None else None)\n",
        "\n",
        "indices = books[\n",
        "    (books['publishedYear'] == '101-') |\n",
        "     (books['publishedYear'] == '16') |\n",
        "      (books['publishedYear'] == '17') |\n",
        "       (books['publishedYear'] == '18') |\n",
        "        (books['publishedYear'] == '19')].index\n",
        "\n",
        "books.drop(labels=indices, inplace=True)\n",
        "\n",
        "books['publishedYear'] = books['publishedYear'].apply(lambda x: int(x) if not x == None else 0)\n",
        "\n",
        "books['publishedYear'] = books['publishedYear'].astype(int)\n",
        "\n",
        "books.drop(labels='publishedDate', axis=1, inplace=True)\n",
        "\n",
        "books.info()"
      ]
    },
    {
      "cell_type": "code",
      "execution_count": null,
      "id": "2Es7LJEqEjq5",
      "metadata": {
        "colab": {
          "base_uri": "https://localhost:8080/"
        },
        "id": "2Es7LJEqEjq5",
        "outputId": "287a94d7-7c8b-4f8d-c214-179317690727"
      },
      "outputs": [
        {
          "name": "stdout",
          "output_type": "stream",
          "text": [
            "<class 'pandas.core.frame.DataFrame'>\n",
            "Int64Index: 212345 entries, 0 to 212403\n",
            "Data columns (total 7 columns):\n",
            " #   Column         Non-Null Count   Dtype  \n",
            "---  ------         --------------   -----  \n",
            " 0   Title          212345 non-null  string \n",
            " 1   description    143945 non-null  string \n",
            " 2   authors        180946 non-null  object \n",
            " 3   publisher      136504 non-null  string \n",
            " 4   categories     171171 non-null  string \n",
            " 5   ratingsCount   49748 non-null   float64\n",
            " 6   publishedYear  212345 non-null  int64  \n",
            "dtypes: float64(1), int64(1), object(1), string(4)\n",
            "memory usage: 13.0+ MB\n"
          ]
        }
      ],
      "source": [
        "books.info()"
      ]
    },
    {
      "cell_type": "code",
      "execution_count": null,
      "id": "G8SEjCRgFlDq",
      "metadata": {
        "colab": {
          "base_uri": "https://localhost:8080/",
          "height": 250
        },
        "id": "G8SEjCRgFlDq",
        "outputId": "8acdc46f-1666-4351-d15f-ab3936fa1a6f"
      },
      "outputs": [
        {
          "data": {
            "text/html": [
              "\n",
              "  <div id=\"df-f1f7135c-aec5-4ce4-8363-eb7ec87e23a2\">\n",
              "    <div class=\"colab-df-container\">\n",
              "      <div>\n",
              "<style scoped>\n",
              "    .dataframe tbody tr th:only-of-type {\n",
              "        vertical-align: middle;\n",
              "    }\n",
              "\n",
              "    .dataframe tbody tr th {\n",
              "        vertical-align: top;\n",
              "    }\n",
              "\n",
              "    .dataframe thead th {\n",
              "        text-align: right;\n",
              "    }\n",
              "</style>\n",
              "<table border=\"1\" class=\"dataframe\">\n",
              "  <thead>\n",
              "    <tr style=\"text-align: right;\">\n",
              "      <th></th>\n",
              "      <th>Title</th>\n",
              "      <th>description</th>\n",
              "      <th>authors</th>\n",
              "      <th>publisher</th>\n",
              "      <th>categories</th>\n",
              "      <th>ratingsCount</th>\n",
              "      <th>publishedYear</th>\n",
              "    </tr>\n",
              "  </thead>\n",
              "  <tbody>\n",
              "    <tr>\n",
              "      <th>0</th>\n",
              "      <td>Its Only Art If Its Well Hung!</td>\n",
              "      <td>&lt;NA&gt;</td>\n",
              "      <td>juliestrain</td>\n",
              "      <td>&lt;NA&gt;</td>\n",
              "      <td>Comics &amp; Graphic Novels</td>\n",
              "      <td>NaN</td>\n",
              "      <td>1996</td>\n",
              "    </tr>\n",
              "    <tr>\n",
              "      <th>1</th>\n",
              "      <td>Dr. Seuss: American Icon</td>\n",
              "      <td>Philip Nel takes a fascinating look into the k...</td>\n",
              "      <td>philipnel</td>\n",
              "      <td>A&amp;C Black</td>\n",
              "      <td>Biography &amp; Autobiography</td>\n",
              "      <td>NaN</td>\n",
              "      <td>2005</td>\n",
              "    </tr>\n",
              "    <tr>\n",
              "      <th>2</th>\n",
              "      <td>Wonderful Worship in Smaller Churches</td>\n",
              "      <td>This resource includes twelve principles in un...</td>\n",
              "      <td>davidr.ray</td>\n",
              "      <td>&lt;NA&gt;</td>\n",
              "      <td>Religion</td>\n",
              "      <td>NaN</td>\n",
              "      <td>2000</td>\n",
              "    </tr>\n",
              "    <tr>\n",
              "      <th>3</th>\n",
              "      <td>Whispers of the Wicked Saints</td>\n",
              "      <td>Julia Thomas finds her life spinning out of co...</td>\n",
              "      <td>veronicahaddon</td>\n",
              "      <td>iUniverse</td>\n",
              "      <td>Fiction</td>\n",
              "      <td>NaN</td>\n",
              "      <td>2005</td>\n",
              "    </tr>\n",
              "    <tr>\n",
              "      <th>4</th>\n",
              "      <td>Nation Dance: Religion, Identity and Cultural ...</td>\n",
              "      <td>&lt;NA&gt;</td>\n",
              "      <td>edwardlong</td>\n",
              "      <td>&lt;NA&gt;</td>\n",
              "      <td>&lt;NA&gt;</td>\n",
              "      <td>NaN</td>\n",
              "      <td>2003</td>\n",
              "    </tr>\n",
              "  </tbody>\n",
              "</table>\n",
              "</div>\n",
              "      <button class=\"colab-df-convert\" onclick=\"convertToInteractive('df-f1f7135c-aec5-4ce4-8363-eb7ec87e23a2')\"\n",
              "              title=\"Convert this dataframe to an interactive table.\"\n",
              "              style=\"display:none;\">\n",
              "        \n",
              "  <svg xmlns=\"http://www.w3.org/2000/svg\" height=\"24px\"viewBox=\"0 0 24 24\"\n",
              "       width=\"24px\">\n",
              "    <path d=\"M0 0h24v24H0V0z\" fill=\"none\"/>\n",
              "    <path d=\"M18.56 5.44l.94 2.06.94-2.06 2.06-.94-2.06-.94-.94-2.06-.94 2.06-2.06.94zm-11 1L8.5 8.5l.94-2.06 2.06-.94-2.06-.94L8.5 2.5l-.94 2.06-2.06.94zm10 10l.94 2.06.94-2.06 2.06-.94-2.06-.94-.94-2.06-.94 2.06-2.06.94z\"/><path d=\"M17.41 7.96l-1.37-1.37c-.4-.4-.92-.59-1.43-.59-.52 0-1.04.2-1.43.59L10.3 9.45l-7.72 7.72c-.78.78-.78 2.05 0 2.83L4 21.41c.39.39.9.59 1.41.59.51 0 1.02-.2 1.41-.59l7.78-7.78 2.81-2.81c.8-.78.8-2.07 0-2.86zM5.41 20L4 18.59l7.72-7.72 1.47 1.35L5.41 20z\"/>\n",
              "  </svg>\n",
              "      </button>\n",
              "      \n",
              "  <style>\n",
              "    .colab-df-container {\n",
              "      display:flex;\n",
              "      flex-wrap:wrap;\n",
              "      gap: 12px;\n",
              "    }\n",
              "\n",
              "    .colab-df-convert {\n",
              "      background-color: #E8F0FE;\n",
              "      border: none;\n",
              "      border-radius: 50%;\n",
              "      cursor: pointer;\n",
              "      display: none;\n",
              "      fill: #1967D2;\n",
              "      height: 32px;\n",
              "      padding: 0 0 0 0;\n",
              "      width: 32px;\n",
              "    }\n",
              "\n",
              "    .colab-df-convert:hover {\n",
              "      background-color: #E2EBFA;\n",
              "      box-shadow: 0px 1px 2px rgba(60, 64, 67, 0.3), 0px 1px 3px 1px rgba(60, 64, 67, 0.15);\n",
              "      fill: #174EA6;\n",
              "    }\n",
              "\n",
              "    [theme=dark] .colab-df-convert {\n",
              "      background-color: #3B4455;\n",
              "      fill: #D2E3FC;\n",
              "    }\n",
              "\n",
              "    [theme=dark] .colab-df-convert:hover {\n",
              "      background-color: #434B5C;\n",
              "      box-shadow: 0px 1px 3px 1px rgba(0, 0, 0, 0.15);\n",
              "      filter: drop-shadow(0px 1px 2px rgba(0, 0, 0, 0.3));\n",
              "      fill: #FFFFFF;\n",
              "    }\n",
              "  </style>\n",
              "\n",
              "      <script>\n",
              "        const buttonEl =\n",
              "          document.querySelector('#df-f1f7135c-aec5-4ce4-8363-eb7ec87e23a2 button.colab-df-convert');\n",
              "        buttonEl.style.display =\n",
              "          google.colab.kernel.accessAllowed ? 'block' : 'none';\n",
              "\n",
              "        async function convertToInteractive(key) {\n",
              "          const element = document.querySelector('#df-f1f7135c-aec5-4ce4-8363-eb7ec87e23a2');\n",
              "          const dataTable =\n",
              "            await google.colab.kernel.invokeFunction('convertToInteractive',\n",
              "                                                     [key], {});\n",
              "          if (!dataTable) return;\n",
              "\n",
              "          const docLinkHtml = 'Like what you see? Visit the ' +\n",
              "            '<a target=\"_blank\" href=https://colab.research.google.com/notebooks/data_table.ipynb>data table notebook</a>'\n",
              "            + ' to learn more about interactive tables.';\n",
              "          element.innerHTML = '';\n",
              "          dataTable['output_type'] = 'display_data';\n",
              "          await google.colab.output.renderOutput(dataTable, element);\n",
              "          const docLink = document.createElement('div');\n",
              "          docLink.innerHTML = docLinkHtml;\n",
              "          element.appendChild(docLink);\n",
              "        }\n",
              "      </script>\n",
              "    </div>\n",
              "  </div>\n",
              "  "
            ],
            "text/plain": [
              "                                               Title  \\\n",
              "0                     Its Only Art If Its Well Hung!   \n",
              "1                           Dr. Seuss: American Icon   \n",
              "2              Wonderful Worship in Smaller Churches   \n",
              "3                      Whispers of the Wicked Saints   \n",
              "4  Nation Dance: Religion, Identity and Cultural ...   \n",
              "\n",
              "                                         description         authors  \\\n",
              "0                                               <NA>     juliestrain   \n",
              "1  Philip Nel takes a fascinating look into the k...       philipnel   \n",
              "2  This resource includes twelve principles in un...      davidr.ray   \n",
              "3  Julia Thomas finds her life spinning out of co...  veronicahaddon   \n",
              "4                                               <NA>      edwardlong   \n",
              "\n",
              "   publisher                 categories  ratingsCount  publishedYear  \n",
              "0       <NA>    Comics & Graphic Novels           NaN           1996  \n",
              "1  A&C Black  Biography & Autobiography           NaN           2005  \n",
              "2       <NA>                   Religion           NaN           2000  \n",
              "3  iUniverse                    Fiction           NaN           2005  \n",
              "4       <NA>                       <NA>           NaN           2003  "
            ]
          },
          "execution_count": 39,
          "metadata": {},
          "output_type": "execute_result"
        }
      ],
      "source": [
        "books.head()"
      ]
    },
    {
      "cell_type": "code",
      "execution_count": null,
      "id": "7MpWfuJmHfAX",
      "metadata": {
        "colab": {
          "base_uri": "https://localhost:8080/"
        },
        "id": "7MpWfuJmHfAX",
        "outputId": "917a96f7-c4b4-47fb-f9be-8a0fc41e82bc"
      },
      "outputs": [
        {
          "data": {
            "text/plain": [
              "68400"
            ]
          },
          "execution_count": 40,
          "metadata": {},
          "output_type": "execute_result"
        }
      ],
      "source": [
        "books['description'].isna().sum()"
      ]
    },
    {
      "cell_type": "code",
      "execution_count": null,
      "id": "4to4adcdHkeT",
      "metadata": {
        "id": "4to4adcdHkeT"
      },
      "outputs": [],
      "source": [
        "books.to_csv('books_clean.csv', index=False, na_rep='')"
      ]
    },
    {
      "cell_type": "code",
      "execution_count": null,
      "id": "LgHF_JYAQciy",
      "metadata": {
        "id": "LgHF_JYAQciy"
      },
      "outputs": [],
      "source": [
        "books_clean = pd.read_csv('books_clean.csv',na_values='NaN')"
      ]
    },
    {
      "cell_type": "code",
      "execution_count": null,
      "id": "hYCcTQ3ZVjS7",
      "metadata": {
        "colab": {
          "base_uri": "https://localhost:8080/"
        },
        "id": "hYCcTQ3ZVjS7",
        "outputId": "84bddbd8-db07-4e00-9d4e-2711f79257ac"
      },
      "outputs": [
        {
          "name": "stdout",
          "output_type": "stream",
          "text": [
            "Drive already mounted at /content/drive; to attempt to forcibly remount, call drive.mount(\"/content/drive\", force_remount=True).\n"
          ]
        }
      ],
      "source": [
        "from google.colab import drive\n",
        "drive.mount('/content/drive')"
      ]
    },
    {
      "cell_type": "code",
      "execution_count": null,
      "id": "HHWcNGjuQjp8",
      "metadata": {
        "colab": {
          "base_uri": "https://localhost:8080/",
          "height": 641
        },
        "id": "HHWcNGjuQjp8",
        "outputId": "955ae63c-4dd7-41d7-e039-407c9dab2603"
      },
      "outputs": [
        {
          "data": {
            "text/html": [
              "\n",
              "  <div id=\"df-42c7488d-49c4-4bfc-a2d1-5749e52c5d1c\">\n",
              "    <div class=\"colab-df-container\">\n",
              "      <div>\n",
              "<style scoped>\n",
              "    .dataframe tbody tr th:only-of-type {\n",
              "        vertical-align: middle;\n",
              "    }\n",
              "\n",
              "    .dataframe tbody tr th {\n",
              "        vertical-align: top;\n",
              "    }\n",
              "\n",
              "    .dataframe thead th {\n",
              "        text-align: right;\n",
              "    }\n",
              "</style>\n",
              "<table border=\"1\" class=\"dataframe\">\n",
              "  <thead>\n",
              "    <tr style=\"text-align: right;\">\n",
              "      <th></th>\n",
              "      <th>Title</th>\n",
              "      <th>description</th>\n",
              "      <th>authors</th>\n",
              "      <th>publisher</th>\n",
              "      <th>categories</th>\n",
              "      <th>ratingsCount</th>\n",
              "      <th>publishedYear</th>\n",
              "    </tr>\n",
              "  </thead>\n",
              "  <tbody>\n",
              "    <tr>\n",
              "      <th>0</th>\n",
              "      <td>Its Only Art If Its Well Hung!</td>\n",
              "      <td>NaN</td>\n",
              "      <td>juliestrain</td>\n",
              "      <td>NaN</td>\n",
              "      <td>Comics &amp; Graphic Novels</td>\n",
              "      <td>NaN</td>\n",
              "      <td>1996</td>\n",
              "    </tr>\n",
              "    <tr>\n",
              "      <th>1</th>\n",
              "      <td>Dr. Seuss: American Icon</td>\n",
              "      <td>Philip Nel takes a fascinating look into the k...</td>\n",
              "      <td>philipnel</td>\n",
              "      <td>A&amp;C Black</td>\n",
              "      <td>Biography &amp; Autobiography</td>\n",
              "      <td>NaN</td>\n",
              "      <td>2005</td>\n",
              "    </tr>\n",
              "    <tr>\n",
              "      <th>2</th>\n",
              "      <td>Wonderful Worship in Smaller Churches</td>\n",
              "      <td>This resource includes twelve principles in un...</td>\n",
              "      <td>davidr.ray</td>\n",
              "      <td>NaN</td>\n",
              "      <td>Religion</td>\n",
              "      <td>NaN</td>\n",
              "      <td>2000</td>\n",
              "    </tr>\n",
              "    <tr>\n",
              "      <th>3</th>\n",
              "      <td>Whispers of the Wicked Saints</td>\n",
              "      <td>Julia Thomas finds her life spinning out of co...</td>\n",
              "      <td>veronicahaddon</td>\n",
              "      <td>iUniverse</td>\n",
              "      <td>Fiction</td>\n",
              "      <td>NaN</td>\n",
              "      <td>2005</td>\n",
              "    </tr>\n",
              "    <tr>\n",
              "      <th>4</th>\n",
              "      <td>Nation Dance: Religion, Identity and Cultural ...</td>\n",
              "      <td>NaN</td>\n",
              "      <td>edwardlong</td>\n",
              "      <td>NaN</td>\n",
              "      <td>NaN</td>\n",
              "      <td>NaN</td>\n",
              "      <td>2003</td>\n",
              "    </tr>\n",
              "    <tr>\n",
              "      <th>...</th>\n",
              "      <td>...</td>\n",
              "      <td>...</td>\n",
              "      <td>...</td>\n",
              "      <td>...</td>\n",
              "      <td>...</td>\n",
              "      <td>...</td>\n",
              "      <td>...</td>\n",
              "    </tr>\n",
              "    <tr>\n",
              "      <th>212340</th>\n",
              "      <td>The Orphan Of Ellis Island (Time Travel Advent...</td>\n",
              "      <td>During a school trip to Ellis Island, Dominick...</td>\n",
              "      <td>elvirawoodruff</td>\n",
              "      <td>Scholastic Paperbacks</td>\n",
              "      <td>Juvenile Fiction</td>\n",
              "      <td>2.0</td>\n",
              "      <td>2000</td>\n",
              "    </tr>\n",
              "    <tr>\n",
              "      <th>212341</th>\n",
              "      <td>Red Boots for Christmas</td>\n",
              "      <td>Everyone in the village of Friedensdorf is hap...</td>\n",
              "      <td>NaN</td>\n",
              "      <td>NaN</td>\n",
              "      <td>Juvenile Fiction</td>\n",
              "      <td>NaN</td>\n",
              "      <td>1995</td>\n",
              "    </tr>\n",
              "    <tr>\n",
              "      <th>212342</th>\n",
              "      <td>Mamaw</td>\n",
              "      <td>Give your Mamaw a useful, beautiful and though...</td>\n",
              "      <td>wildwildcabbage</td>\n",
              "      <td>NaN</td>\n",
              "      <td>NaN</td>\n",
              "      <td>NaN</td>\n",
              "      <td>2018</td>\n",
              "    </tr>\n",
              "    <tr>\n",
              "      <th>212343</th>\n",
              "      <td>The Autograph Man</td>\n",
              "      <td>Alex-Li Tandem sells autographs. His business ...</td>\n",
              "      <td>zadiesmith</td>\n",
              "      <td>Vintage</td>\n",
              "      <td>Fiction</td>\n",
              "      <td>19.0</td>\n",
              "      <td>2003</td>\n",
              "    </tr>\n",
              "    <tr>\n",
              "      <th>212344</th>\n",
              "      <td>Student's Solutions Manual for Johnson/Mowry's...</td>\n",
              "      <td>Discover the many ways mathematics is relevant...</td>\n",
              "      <td>davidb.johnson thomasa.mowry</td>\n",
              "      <td>Brooks/Cole Publishing Company</td>\n",
              "      <td>NaN</td>\n",
              "      <td>NaN</td>\n",
              "      <td>1998</td>\n",
              "    </tr>\n",
              "  </tbody>\n",
              "</table>\n",
              "<p>212345 rows × 7 columns</p>\n",
              "</div>\n",
              "      <button class=\"colab-df-convert\" onclick=\"convertToInteractive('df-42c7488d-49c4-4bfc-a2d1-5749e52c5d1c')\"\n",
              "              title=\"Convert this dataframe to an interactive table.\"\n",
              "              style=\"display:none;\">\n",
              "        \n",
              "  <svg xmlns=\"http://www.w3.org/2000/svg\" height=\"24px\"viewBox=\"0 0 24 24\"\n",
              "       width=\"24px\">\n",
              "    <path d=\"M0 0h24v24H0V0z\" fill=\"none\"/>\n",
              "    <path d=\"M18.56 5.44l.94 2.06.94-2.06 2.06-.94-2.06-.94-.94-2.06-.94 2.06-2.06.94zm-11 1L8.5 8.5l.94-2.06 2.06-.94-2.06-.94L8.5 2.5l-.94 2.06-2.06.94zm10 10l.94 2.06.94-2.06 2.06-.94-2.06-.94-.94-2.06-.94 2.06-2.06.94z\"/><path d=\"M17.41 7.96l-1.37-1.37c-.4-.4-.92-.59-1.43-.59-.52 0-1.04.2-1.43.59L10.3 9.45l-7.72 7.72c-.78.78-.78 2.05 0 2.83L4 21.41c.39.39.9.59 1.41.59.51 0 1.02-.2 1.41-.59l7.78-7.78 2.81-2.81c.8-.78.8-2.07 0-2.86zM5.41 20L4 18.59l7.72-7.72 1.47 1.35L5.41 20z\"/>\n",
              "  </svg>\n",
              "      </button>\n",
              "      \n",
              "  <style>\n",
              "    .colab-df-container {\n",
              "      display:flex;\n",
              "      flex-wrap:wrap;\n",
              "      gap: 12px;\n",
              "    }\n",
              "\n",
              "    .colab-df-convert {\n",
              "      background-color: #E8F0FE;\n",
              "      border: none;\n",
              "      border-radius: 50%;\n",
              "      cursor: pointer;\n",
              "      display: none;\n",
              "      fill: #1967D2;\n",
              "      height: 32px;\n",
              "      padding: 0 0 0 0;\n",
              "      width: 32px;\n",
              "    }\n",
              "\n",
              "    .colab-df-convert:hover {\n",
              "      background-color: #E2EBFA;\n",
              "      box-shadow: 0px 1px 2px rgba(60, 64, 67, 0.3), 0px 1px 3px 1px rgba(60, 64, 67, 0.15);\n",
              "      fill: #174EA6;\n",
              "    }\n",
              "\n",
              "    [theme=dark] .colab-df-convert {\n",
              "      background-color: #3B4455;\n",
              "      fill: #D2E3FC;\n",
              "    }\n",
              "\n",
              "    [theme=dark] .colab-df-convert:hover {\n",
              "      background-color: #434B5C;\n",
              "      box-shadow: 0px 1px 3px 1px rgba(0, 0, 0, 0.15);\n",
              "      filter: drop-shadow(0px 1px 2px rgba(0, 0, 0, 0.3));\n",
              "      fill: #FFFFFF;\n",
              "    }\n",
              "  </style>\n",
              "\n",
              "      <script>\n",
              "        const buttonEl =\n",
              "          document.querySelector('#df-42c7488d-49c4-4bfc-a2d1-5749e52c5d1c button.colab-df-convert');\n",
              "        buttonEl.style.display =\n",
              "          google.colab.kernel.accessAllowed ? 'block' : 'none';\n",
              "\n",
              "        async function convertToInteractive(key) {\n",
              "          const element = document.querySelector('#df-42c7488d-49c4-4bfc-a2d1-5749e52c5d1c');\n",
              "          const dataTable =\n",
              "            await google.colab.kernel.invokeFunction('convertToInteractive',\n",
              "                                                     [key], {});\n",
              "          if (!dataTable) return;\n",
              "\n",
              "          const docLinkHtml = 'Like what you see? Visit the ' +\n",
              "            '<a target=\"_blank\" href=https://colab.research.google.com/notebooks/data_table.ipynb>data table notebook</a>'\n",
              "            + ' to learn more about interactive tables.';\n",
              "          element.innerHTML = '';\n",
              "          dataTable['output_type'] = 'display_data';\n",
              "          await google.colab.output.renderOutput(dataTable, element);\n",
              "          const docLink = document.createElement('div');\n",
              "          docLink.innerHTML = docLinkHtml;\n",
              "          element.appendChild(docLink);\n",
              "        }\n",
              "      </script>\n",
              "    </div>\n",
              "  </div>\n",
              "  "
            ],
            "text/plain": [
              "                                                    Title  \\\n",
              "0                          Its Only Art If Its Well Hung!   \n",
              "1                                Dr. Seuss: American Icon   \n",
              "2                   Wonderful Worship in Smaller Churches   \n",
              "3                           Whispers of the Wicked Saints   \n",
              "4       Nation Dance: Religion, Identity and Cultural ...   \n",
              "...                                                   ...   \n",
              "212340  The Orphan Of Ellis Island (Time Travel Advent...   \n",
              "212341                            Red Boots for Christmas   \n",
              "212342                                              Mamaw   \n",
              "212343                                  The Autograph Man   \n",
              "212344  Student's Solutions Manual for Johnson/Mowry's...   \n",
              "\n",
              "                                              description  \\\n",
              "0                                                     NaN   \n",
              "1       Philip Nel takes a fascinating look into the k...   \n",
              "2       This resource includes twelve principles in un...   \n",
              "3       Julia Thomas finds her life spinning out of co...   \n",
              "4                                                     NaN   \n",
              "...                                                   ...   \n",
              "212340  During a school trip to Ellis Island, Dominick...   \n",
              "212341  Everyone in the village of Friedensdorf is hap...   \n",
              "212342  Give your Mamaw a useful, beautiful and though...   \n",
              "212343  Alex-Li Tandem sells autographs. His business ...   \n",
              "212344  Discover the many ways mathematics is relevant...   \n",
              "\n",
              "                             authors                       publisher  \\\n",
              "0                        juliestrain                             NaN   \n",
              "1                          philipnel                       A&C Black   \n",
              "2                         davidr.ray                             NaN   \n",
              "3                     veronicahaddon                       iUniverse   \n",
              "4                         edwardlong                             NaN   \n",
              "...                              ...                             ...   \n",
              "212340                elvirawoodruff           Scholastic Paperbacks   \n",
              "212341                           NaN                             NaN   \n",
              "212342               wildwildcabbage                             NaN   \n",
              "212343                    zadiesmith                         Vintage   \n",
              "212344  davidb.johnson thomasa.mowry  Brooks/Cole Publishing Company   \n",
              "\n",
              "                       categories  ratingsCount  publishedYear  \n",
              "0         Comics & Graphic Novels           NaN           1996  \n",
              "1       Biography & Autobiography           NaN           2005  \n",
              "2                        Religion           NaN           2000  \n",
              "3                         Fiction           NaN           2005  \n",
              "4                             NaN           NaN           2003  \n",
              "...                           ...           ...            ...  \n",
              "212340           Juvenile Fiction           2.0           2000  \n",
              "212341           Juvenile Fiction           NaN           1995  \n",
              "212342                        NaN           NaN           2018  \n",
              "212343                    Fiction          19.0           2003  \n",
              "212344                        NaN           NaN           1998  \n",
              "\n",
              "[212345 rows x 7 columns]"
            ]
          },
          "execution_count": 44,
          "metadata": {},
          "output_type": "execute_result"
        }
      ],
      "source": [
        "books_clean"
      ]
    },
    {
      "cell_type": "code",
      "execution_count": null,
      "id": "Ml_63s90Qpno",
      "metadata": {
        "colab": {
          "base_uri": "https://localhost:8080/"
        },
        "id": "Ml_63s90Qpno",
        "outputId": "40247c11-6772-479b-8d01-5d0889719af8"
      },
      "outputs": [
        {
          "data": {
            "text/plain": [
              "True"
            ]
          },
          "execution_count": 45,
          "metadata": {},
          "output_type": "execute_result"
        }
      ],
      "source": [
        "isinstance(books_clean.description[0], float)"
      ]
    },
    {
      "cell_type": "markdown",
      "id": "xdeO_pwgd_8d",
      "metadata": {
        "id": "xdeO_pwgd_8d"
      },
      "source": [
        "# Cleaning Ratings"
      ]
    },
    {
      "cell_type": "code",
      "execution_count": null,
      "id": "91b3ae0d",
      "metadata": {
        "colab": {
          "base_uri": "https://localhost:8080/"
        },
        "id": "91b3ae0d",
        "outputId": "d4951968-50ea-4a8c-d137-8ce8e58c5ffc"
      },
      "outputs": [
        {
          "data": {
            "text/plain": [
              "Int64Index([  13110,  358889,  358890,  358891,  432033,  432034,  432035,\n",
              "            1278692, 1278693, 1278694,\n",
              "            ...\n",
              "            2682927, 2682928, 2826586, 2826587, 2826588, 2826589, 2826590,\n",
              "            2826591, 2826592, 2826593],\n",
              "           dtype='int64', length=208)"
            ]
          },
          "execution_count": 46,
          "metadata": {},
          "output_type": "execute_result"
        }
      ],
      "source": [
        "ratings[ratings['Title'].isna()].index"
      ]
    },
    {
      "cell_type": "code",
      "execution_count": null,
      "id": "3b6eb660",
      "metadata": {
        "id": "3b6eb660"
      },
      "outputs": [],
      "source": [
        "ratings = ratings.drop(ratings[ratings['Title'].isna()].index)"
      ]
    },
    {
      "cell_type": "code",
      "execution_count": null,
      "id": "54fa7057",
      "metadata": {
        "colab": {
          "base_uri": "https://localhost:8080/"
        },
        "id": "54fa7057",
        "outputId": "f6a52a4a-0d9f-4a9b-bafd-145c35f3c709"
      },
      "outputs": [
        {
          "data": {
            "text/plain": [
              "Int64Index([], dtype='int64')"
            ]
          },
          "execution_count": 48,
          "metadata": {},
          "output_type": "execute_result"
        }
      ],
      "source": [
        "ratings[ratings['Title'].isna()].index"
      ]
    },
    {
      "cell_type": "code",
      "execution_count": null,
      "id": "932b18d6",
      "metadata": {
        "colab": {
          "base_uri": "https://localhost:8080/"
        },
        "id": "932b18d6",
        "outputId": "afd90520-cb73-436c-86d2-afcb17396dc4"
      },
      "outputs": [
        {
          "data": {
            "text/plain": [
              "(2999792, 10)"
            ]
          },
          "execution_count": 49,
          "metadata": {},
          "output_type": "execute_result"
        }
      ],
      "source": [
        "ratings.shape"
      ]
    },
    {
      "cell_type": "code",
      "execution_count": null,
      "id": "1c0809d4",
      "metadata": {
        "colab": {
          "base_uri": "https://localhost:8080/"
        },
        "id": "1c0809d4",
        "outputId": "6bf4d12b-6e76-494b-932b-1a954d835a40"
      },
      "outputs": [
        {
          "data": {
            "text/plain": [
              "212403"
            ]
          },
          "execution_count": 50,
          "metadata": {},
          "output_type": "execute_result"
        }
      ],
      "source": [
        "ratings['Title'].unique().size"
      ]
    },
    {
      "cell_type": "code",
      "execution_count": null,
      "id": "8d8a35aa",
      "metadata": {
        "colab": {
          "base_uri": "https://localhost:8080/"
        },
        "id": "8d8a35aa",
        "outputId": "4b5fb496-d498-4dee-a7cf-8ec40f2ea416"
      },
      "outputs": [
        {
          "data": {
            "text/plain": [
              "Id                     object\n",
              "Title                  object\n",
              "Price                 float64\n",
              "User_id                object\n",
              "profileName            object\n",
              "review/helpfulness     object\n",
              "review/score          float64\n",
              "review/time             int64\n",
              "review/summary         object\n",
              "review/text            object\n",
              "dtype: object"
            ]
          },
          "execution_count": 51,
          "metadata": {},
          "output_type": "execute_result"
        }
      ],
      "source": [
        "ratings.dtypes"
      ]
    },
    {
      "cell_type": "code",
      "execution_count": null,
      "id": "1b8395a0",
      "metadata": {
        "id": "1b8395a0"
      },
      "outputs": [],
      "source": [
        "ratings['Title'] = ratings['Title'].astype('string')"
      ]
    },
    {
      "cell_type": "code",
      "execution_count": null,
      "id": "0a83ff57",
      "metadata": {
        "colab": {
          "base_uri": "https://localhost:8080/"
        },
        "id": "0a83ff57",
        "outputId": "2fd231d7-3e00-461a-cd80-49fbf6f88bc6"
      },
      "outputs": [
        {
          "data": {
            "text/plain": [
              "Id                     object\n",
              "Title                  string\n",
              "Price                 float64\n",
              "User_id                object\n",
              "profileName            object\n",
              "review/helpfulness     object\n",
              "review/score          float64\n",
              "review/time             int64\n",
              "review/summary         object\n",
              "review/text            object\n",
              "dtype: object"
            ]
          },
          "execution_count": 53,
          "metadata": {},
          "output_type": "execute_result"
        }
      ],
      "source": [
        "ratings.dtypes"
      ]
    },
    {
      "cell_type": "code",
      "execution_count": null,
      "id": "e9feb2ed",
      "metadata": {
        "id": "e9feb2ed"
      },
      "outputs": [],
      "source": [
        "ratings['review/helpfulness'] = ratings['review/helpfulness'].apply(lambda x: x.split('/'))"
      ]
    },
    {
      "cell_type": "code",
      "execution_count": null,
      "id": "657eac21",
      "metadata": {
        "id": "657eac21",
        "scrolled": true
      },
      "outputs": [],
      "source": [
        "ratings['review/helpfulness'] = ratings['review/helpfulness'].apply(lambda x: [eval(x[0]), eval(x[1])])"
      ]
    },
    {
      "cell_type": "code",
      "execution_count": null,
      "id": "feed7221",
      "metadata": {
        "colab": {
          "base_uri": "https://localhost:8080/"
        },
        "id": "feed7221",
        "outputId": "98774e52-3c26-4b23-b0f5-5d84e6c7d77e"
      },
      "outputs": [
        {
          "data": {
            "text/plain": [
              "[7, 7]"
            ]
          },
          "execution_count": 56,
          "metadata": {},
          "output_type": "execute_result"
        }
      ],
      "source": [
        "ratings['review/helpfulness'][0]"
      ]
    },
    {
      "cell_type": "code",
      "execution_count": null,
      "id": "d110c3b3",
      "metadata": {
        "id": "d110c3b3"
      },
      "outputs": [],
      "source": [
        "ratings['review/helpfulness'] = ratings['review/helpfulness'].apply(lambda x: x[0]/x[1] if x[1] != 0 else None)"
      ]
    },
    {
      "cell_type": "code",
      "execution_count": null,
      "id": "fb0cd01a",
      "metadata": {
        "colab": {
          "base_uri": "https://localhost:8080/",
          "height": 139
        },
        "id": "fb0cd01a",
        "outputId": "c7de8db3-8c57-42dc-b466-7878a2222fe0"
      },
      "outputs": [
        {
          "data": {
            "application/vnd.google.colaboratory.intrinsic+json": {
              "type": "string"
            },
            "text/plain": [
              "\"I don't care much for Dr. Seuss but after reading Philip Nel's book I changed my mind--that's a good testimonial to the power of Rel's writing and thinking. Rel plays Dr. Seuss the ultimate compliment of treating him as a serious poet as well as one of the 20th century's most interesting visual artists, and after reading his book I decided that a trip to the Mandeville Collections of the library at University of California in San Diego was in order, so I could visit some of the incredible Seuss/Geisel holdings they have there.There's almost too much to take in, for, like William Butler Yeats, Seuss led a career that constantly shifted and metamoprhized itself to meet new historical and political cirsumstances, so he seems to have been both a leftist and a conservative at different junctures of his career, both in politics and in art. As Nel shows us, he was once a cartoonist for the fabled PM magazine and, like Andy Warhol, he served his time slaving in the ad business too. All was in the service of amusing and broadening the minds of US children. Nel doesn't hesitate to administer a sound spanking to the Seuss industry that, since his death, has seen fit to license all kinds of awful products including the recent CAT IN THE HAT film with Mike Myers. Oh, what a cat-astrophe!The book is great and I can especially recommend the work of the picture editor who has given us a bounty of good illustrations.\""
            ]
          },
          "execution_count": 58,
          "metadata": {},
          "output_type": "execute_result"
        }
      ],
      "source": [
        "ratings.loc[1,'review/text']"
      ]
    },
    {
      "cell_type": "code",
      "execution_count": null,
      "id": "bnRpmDqUG2rp",
      "metadata": {
        "colab": {
          "base_uri": "https://localhost:8080/"
        },
        "id": "bnRpmDqUG2rp",
        "outputId": "5cb6b70a-e84e-4920-f5f2-b25b9426bd94"
      },
      "outputs": [
        {
          "data": {
            "text/plain": [
              "Id                                                           0826414346\n",
              "Title                                          Dr. Seuss: American Icon\n",
              "Price                                                               NaN\n",
              "User_id                                                  A30TK6U7DNS82R\n",
              "profileName                                               Kevin Killian\n",
              "review/helpfulness                                                  1.0\n",
              "review/score                                                        5.0\n",
              "review/time                                                  1095724800\n",
              "review/summary                                        Really Enjoyed It\n",
              "review/text           I don't care much for Dr. Seuss but after read...\n",
              "Name: 1, dtype: object"
            ]
          },
          "execution_count": 59,
          "metadata": {},
          "output_type": "execute_result"
        }
      ],
      "source": [
        "ratings.iloc[1,]"
      ]
    },
    {
      "cell_type": "code",
      "execution_count": null,
      "id": "YaVD0361HMfW",
      "metadata": {
        "colab": {
          "base_uri": "https://localhost:8080/",
          "height": 35
        },
        "id": "YaVD0361HMfW",
        "outputId": "d7bfb883-4470-488b-ee6e-cc1c163b7699"
      },
      "outputs": [
        {
          "data": {
            "application/vnd.google.colaboratory.intrinsic+json": {
              "type": "string"
            },
            "text/plain": [
              "'Really Enjoyed It'"
            ]
          },
          "execution_count": 60,
          "metadata": {},
          "output_type": "execute_result"
        }
      ],
      "source": [
        "ratings.loc[1,'review/summary']"
      ]
    },
    {
      "cell_type": "code",
      "execution_count": null,
      "id": "ypIwAeLsHSE_",
      "metadata": {
        "colab": {
          "base_uri": "https://localhost:8080/"
        },
        "id": "ypIwAeLsHSE_",
        "outputId": "a6e02cfc-0612-4719-f842-4d8ca0a76d56"
      },
      "outputs": [
        {
          "data": {
            "text/plain": [
              "0          1.000000\n",
              "1          1.000000\n",
              "2          0.909091\n",
              "3          1.000000\n",
              "4          1.000000\n",
              "             ...   \n",
              "2999995    0.736842\n",
              "2999996    1.000000\n",
              "2999997         NaN\n",
              "2999998    0.090909\n",
              "2999999    0.142857\n",
              "Name: review/helpfulness, Length: 2999792, dtype: float64"
            ]
          },
          "execution_count": 61,
          "metadata": {},
          "output_type": "execute_result"
        }
      ],
      "source": [
        "ratings['review/helpfulness']"
      ]
    },
    {
      "cell_type": "code",
      "execution_count": null,
      "id": "nRGIPgkbJ4C_",
      "metadata": {
        "colab": {
          "base_uri": "https://localhost:8080/"
        },
        "id": "nRGIPgkbJ4C_",
        "outputId": "0b2119ba-de34-40fb-e60e-fa5ad3639e4d"
      },
      "outputs": [
        {
          "data": {
            "text/plain": [
              "2518628"
            ]
          },
          "execution_count": 62,
          "metadata": {},
          "output_type": "execute_result"
        }
      ],
      "source": [
        "ratings['Price'].isna().sum() #brisem ovu kolonu"
      ]
    },
    {
      "cell_type": "code",
      "execution_count": null,
      "id": "ytU0YIIGJ7tQ",
      "metadata": {
        "id": "ytU0YIIGJ7tQ"
      },
      "outputs": [],
      "source": [
        "ratings.drop('Price', axis = 1, inplace = True)"
      ]
    },
    {
      "cell_type": "code",
      "execution_count": null,
      "id": "iEmSsJa9KHpA",
      "metadata": {
        "id": "iEmSsJa9KHpA"
      },
      "outputs": [],
      "source": [
        "ratings.drop('profileName', axis=1, inplace = True)"
      ]
    },
    {
      "cell_type": "code",
      "execution_count": null,
      "id": "NHnvgusuKO9j",
      "metadata": {
        "colab": {
          "base_uri": "https://localhost:8080/"
        },
        "id": "NHnvgusuKO9j",
        "outputId": "850319a1-369c-4e91-9946-c85080e9dcb8"
      },
      "outputs": [
        {
          "data": {
            "text/plain": [
              "Index(['Id', 'Title', 'User_id', 'review/helpfulness', 'review/score',\n",
              "       'review/time', 'review/summary', 'review/text'],\n",
              "      dtype='object')"
            ]
          },
          "execution_count": 65,
          "metadata": {},
          "output_type": "execute_result"
        }
      ],
      "source": [
        "ratings.columns\n"
      ]
    },
    {
      "cell_type": "code",
      "execution_count": null,
      "id": "dpD4VfD4McME",
      "metadata": {
        "id": "dpD4VfD4McME"
      },
      "outputs": [],
      "source": [
        "ratings.rename(columns={'Id':'book_id','User_id':'user_id','review/score':'rating','Title':'title','review/text':'review', 'review/helpfulness' :'helpfulness','review/time' :'time', 'review/summary' :'summary' },inplace=True)"
      ]
    },
    {
      "cell_type": "code",
      "execution_count": null,
      "id": "Mo2-WamTM8xy",
      "metadata": {
        "colab": {
          "base_uri": "https://localhost:8080/",
          "height": 156
        },
        "id": "Mo2-WamTM8xy",
        "outputId": "4fec77e7-27d8-479c-f06c-fe05e5b5fd73"
      },
      "outputs": [
        {
          "data": {
            "text/html": [
              "\n",
              "  <div id=\"df-f28b8464-f18f-4188-9de4-e1678f10dfb7\">\n",
              "    <div class=\"colab-df-container\">\n",
              "      <div>\n",
              "<style scoped>\n",
              "    .dataframe tbody tr th:only-of-type {\n",
              "        vertical-align: middle;\n",
              "    }\n",
              "\n",
              "    .dataframe tbody tr th {\n",
              "        vertical-align: top;\n",
              "    }\n",
              "\n",
              "    .dataframe thead th {\n",
              "        text-align: right;\n",
              "    }\n",
              "</style>\n",
              "<table border=\"1\" class=\"dataframe\">\n",
              "  <thead>\n",
              "    <tr style=\"text-align: right;\">\n",
              "      <th></th>\n",
              "      <th>book_id</th>\n",
              "      <th>title</th>\n",
              "      <th>user_id</th>\n",
              "      <th>helpfulness</th>\n",
              "      <th>rating</th>\n",
              "      <th>time</th>\n",
              "      <th>summary</th>\n",
              "      <th>review</th>\n",
              "    </tr>\n",
              "  </thead>\n",
              "  <tbody>\n",
              "    <tr>\n",
              "      <th>0</th>\n",
              "      <td>1882931173</td>\n",
              "      <td>Its Only Art If Its Well Hung!</td>\n",
              "      <td>AVCGYZL8FQQTD</td>\n",
              "      <td>1.0</td>\n",
              "      <td>4.0</td>\n",
              "      <td>940636800</td>\n",
              "      <td>Nice collection of Julie Strain images</td>\n",
              "      <td>This is only for Julie Strain fans. It's a col...</td>\n",
              "    </tr>\n",
              "    <tr>\n",
              "      <th>1</th>\n",
              "      <td>0826414346</td>\n",
              "      <td>Dr. Seuss: American Icon</td>\n",
              "      <td>A30TK6U7DNS82R</td>\n",
              "      <td>1.0</td>\n",
              "      <td>5.0</td>\n",
              "      <td>1095724800</td>\n",
              "      <td>Really Enjoyed It</td>\n",
              "      <td>I don't care much for Dr. Seuss but after read...</td>\n",
              "    </tr>\n",
              "  </tbody>\n",
              "</table>\n",
              "</div>\n",
              "      <button class=\"colab-df-convert\" onclick=\"convertToInteractive('df-f28b8464-f18f-4188-9de4-e1678f10dfb7')\"\n",
              "              title=\"Convert this dataframe to an interactive table.\"\n",
              "              style=\"display:none;\">\n",
              "        \n",
              "  <svg xmlns=\"http://www.w3.org/2000/svg\" height=\"24px\"viewBox=\"0 0 24 24\"\n",
              "       width=\"24px\">\n",
              "    <path d=\"M0 0h24v24H0V0z\" fill=\"none\"/>\n",
              "    <path d=\"M18.56 5.44l.94 2.06.94-2.06 2.06-.94-2.06-.94-.94-2.06-.94 2.06-2.06.94zm-11 1L8.5 8.5l.94-2.06 2.06-.94-2.06-.94L8.5 2.5l-.94 2.06-2.06.94zm10 10l.94 2.06.94-2.06 2.06-.94-2.06-.94-.94-2.06-.94 2.06-2.06.94z\"/><path d=\"M17.41 7.96l-1.37-1.37c-.4-.4-.92-.59-1.43-.59-.52 0-1.04.2-1.43.59L10.3 9.45l-7.72 7.72c-.78.78-.78 2.05 0 2.83L4 21.41c.39.39.9.59 1.41.59.51 0 1.02-.2 1.41-.59l7.78-7.78 2.81-2.81c.8-.78.8-2.07 0-2.86zM5.41 20L4 18.59l7.72-7.72 1.47 1.35L5.41 20z\"/>\n",
              "  </svg>\n",
              "      </button>\n",
              "      \n",
              "  <style>\n",
              "    .colab-df-container {\n",
              "      display:flex;\n",
              "      flex-wrap:wrap;\n",
              "      gap: 12px;\n",
              "    }\n",
              "\n",
              "    .colab-df-convert {\n",
              "      background-color: #E8F0FE;\n",
              "      border: none;\n",
              "      border-radius: 50%;\n",
              "      cursor: pointer;\n",
              "      display: none;\n",
              "      fill: #1967D2;\n",
              "      height: 32px;\n",
              "      padding: 0 0 0 0;\n",
              "      width: 32px;\n",
              "    }\n",
              "\n",
              "    .colab-df-convert:hover {\n",
              "      background-color: #E2EBFA;\n",
              "      box-shadow: 0px 1px 2px rgba(60, 64, 67, 0.3), 0px 1px 3px 1px rgba(60, 64, 67, 0.15);\n",
              "      fill: #174EA6;\n",
              "    }\n",
              "\n",
              "    [theme=dark] .colab-df-convert {\n",
              "      background-color: #3B4455;\n",
              "      fill: #D2E3FC;\n",
              "    }\n",
              "\n",
              "    [theme=dark] .colab-df-convert:hover {\n",
              "      background-color: #434B5C;\n",
              "      box-shadow: 0px 1px 3px 1px rgba(0, 0, 0, 0.15);\n",
              "      filter: drop-shadow(0px 1px 2px rgba(0, 0, 0, 0.3));\n",
              "      fill: #FFFFFF;\n",
              "    }\n",
              "  </style>\n",
              "\n",
              "      <script>\n",
              "        const buttonEl =\n",
              "          document.querySelector('#df-f28b8464-f18f-4188-9de4-e1678f10dfb7 button.colab-df-convert');\n",
              "        buttonEl.style.display =\n",
              "          google.colab.kernel.accessAllowed ? 'block' : 'none';\n",
              "\n",
              "        async function convertToInteractive(key) {\n",
              "          const element = document.querySelector('#df-f28b8464-f18f-4188-9de4-e1678f10dfb7');\n",
              "          const dataTable =\n",
              "            await google.colab.kernel.invokeFunction('convertToInteractive',\n",
              "                                                     [key], {});\n",
              "          if (!dataTable) return;\n",
              "\n",
              "          const docLinkHtml = 'Like what you see? Visit the ' +\n",
              "            '<a target=\"_blank\" href=https://colab.research.google.com/notebooks/data_table.ipynb>data table notebook</a>'\n",
              "            + ' to learn more about interactive tables.';\n",
              "          element.innerHTML = '';\n",
              "          dataTable['output_type'] = 'display_data';\n",
              "          await google.colab.output.renderOutput(dataTable, element);\n",
              "          const docLink = document.createElement('div');\n",
              "          docLink.innerHTML = docLinkHtml;\n",
              "          element.appendChild(docLink);\n",
              "        }\n",
              "      </script>\n",
              "    </div>\n",
              "  </div>\n",
              "  "
            ],
            "text/plain": [
              "      book_id                           title         user_id  helpfulness  \\\n",
              "0  1882931173  Its Only Art If Its Well Hung!   AVCGYZL8FQQTD          1.0   \n",
              "1  0826414346        Dr. Seuss: American Icon  A30TK6U7DNS82R          1.0   \n",
              "\n",
              "   rating        time                                 summary  \\\n",
              "0     4.0   940636800  Nice collection of Julie Strain images   \n",
              "1     5.0  1095724800                       Really Enjoyed It   \n",
              "\n",
              "                                              review  \n",
              "0  This is only for Julie Strain fans. It's a col...  \n",
              "1  I don't care much for Dr. Seuss but after read...  "
            ]
          },
          "execution_count": 67,
          "metadata": {},
          "output_type": "execute_result"
        }
      ],
      "source": [
        "ratings.head(2)"
      ]
    },
    {
      "cell_type": "code",
      "execution_count": null,
      "id": "0F-x47X2M9rp",
      "metadata": {
        "id": "0F-x47X2M9rp"
      },
      "outputs": [],
      "source": [
        "x = ratings.groupby('user_id').count()['rating']>250\n",
        "\n",
        "considerable_users = x[x].index"
      ]
    },
    {
      "cell_type": "code",
      "execution_count": null,
      "id": "mzVCDSjgNmTA",
      "metadata": {
        "colab": {
          "base_uri": "https://localhost:8080/",
          "height": 641
        },
        "id": "mzVCDSjgNmTA",
        "outputId": "8b177dd8-cfbf-4cfc-bb78-5e01dc85a043"
      },
      "outputs": [
        {
          "data": {
            "text/html": [
              "\n",
              "  <div id=\"df-2ad9c6c8-ecfc-4edd-a7db-52a1bb5a2119\">\n",
              "    <div class=\"colab-df-container\">\n",
              "      <div>\n",
              "<style scoped>\n",
              "    .dataframe tbody tr th:only-of-type {\n",
              "        vertical-align: middle;\n",
              "    }\n",
              "\n",
              "    .dataframe tbody tr th {\n",
              "        vertical-align: top;\n",
              "    }\n",
              "\n",
              "    .dataframe thead th {\n",
              "        text-align: right;\n",
              "    }\n",
              "</style>\n",
              "<table border=\"1\" class=\"dataframe\">\n",
              "  <thead>\n",
              "    <tr style=\"text-align: right;\">\n",
              "      <th></th>\n",
              "      <th>book_id</th>\n",
              "      <th>title</th>\n",
              "      <th>user_id</th>\n",
              "      <th>helpfulness</th>\n",
              "      <th>rating</th>\n",
              "      <th>time</th>\n",
              "      <th>summary</th>\n",
              "      <th>review</th>\n",
              "    </tr>\n",
              "  </thead>\n",
              "  <tbody>\n",
              "    <tr>\n",
              "      <th>1</th>\n",
              "      <td>0826414346</td>\n",
              "      <td>Dr. Seuss: American Icon</td>\n",
              "      <td>A30TK6U7DNS82R</td>\n",
              "      <td>1.000000</td>\n",
              "      <td>5.0</td>\n",
              "      <td>1095724800</td>\n",
              "      <td>Really Enjoyed It</td>\n",
              "      <td>I don't care much for Dr. Seuss but after read...</td>\n",
              "    </tr>\n",
              "    <tr>\n",
              "      <th>6</th>\n",
              "      <td>0826414346</td>\n",
              "      <td>Dr. Seuss: American Icon</td>\n",
              "      <td>A14OJS0VWMOSWO</td>\n",
              "      <td>0.750000</td>\n",
              "      <td>5.0</td>\n",
              "      <td>1100131200</td>\n",
              "      <td>A memorably excellent survey of Dr. Seuss' man...</td>\n",
              "      <td>Theodor Seuss Giesel was best known as 'Dr. Se...</td>\n",
              "    </tr>\n",
              "    <tr>\n",
              "      <th>59</th>\n",
              "      <td>0963923080</td>\n",
              "      <td>Rising Sons and Daughters: Life Among Japan's ...</td>\n",
              "      <td>A3NIQK6ZLYEP1L</td>\n",
              "      <td>NaN</td>\n",
              "      <td>4.0</td>\n",
              "      <td>1239667200</td>\n",
              "      <td>Almost a day by day view</td>\n",
              "      <td>Steven Wardell went to Japan without reading a...</td>\n",
              "    </tr>\n",
              "    <tr>\n",
              "      <th>140</th>\n",
              "      <td>0789480662</td>\n",
              "      <td>Eyewitness Travel Guide to Europe</td>\n",
              "      <td>A281NPSIMI1C2R</td>\n",
              "      <td>1.000000</td>\n",
              "      <td>5.0</td>\n",
              "      <td>1023235200</td>\n",
              "      <td>The Major Sights in Twenty Countries - Amazing!</td>\n",
              "      <td>Yes, this is one heavy book. It is more than l...</td>\n",
              "    </tr>\n",
              "    <tr>\n",
              "      <th>176</th>\n",
              "      <td>1884734766</td>\n",
              "      <td>Dealing With Disappointment: Helping Kids Cope...</td>\n",
              "      <td>A14OJS0VWMOSWO</td>\n",
              "      <td>0.941176</td>\n",
              "      <td>5.0</td>\n",
              "      <td>1081814400</td>\n",
              "      <td>Filled from cover to cover with practical guid...</td>\n",
              "      <td>Written by Elizabeth Crary (a parent educator ...</td>\n",
              "    </tr>\n",
              "    <tr>\n",
              "      <th>...</th>\n",
              "      <td>...</td>\n",
              "      <td>...</td>\n",
              "      <td>...</td>\n",
              "      <td>...</td>\n",
              "      <td>...</td>\n",
              "      <td>...</td>\n",
              "      <td>...</td>\n",
              "      <td>...</td>\n",
              "    </tr>\n",
              "    <tr>\n",
              "      <th>2999892</th>\n",
              "      <td>0425200736</td>\n",
              "      <td>Echoes (Berkley Sensation)</td>\n",
              "      <td>AFVQZQ8PW0L</td>\n",
              "      <td>0.800000</td>\n",
              "      <td>5.0</td>\n",
              "      <td>1099180800</td>\n",
              "      <td>Engaging romantic suspense</td>\n",
              "      <td>Mountain Bend, California elementary school pr...</td>\n",
              "    </tr>\n",
              "    <tr>\n",
              "      <th>2999935</th>\n",
              "      <td>0786182431</td>\n",
              "      <td>Very Bad Deaths: Library Edition</td>\n",
              "      <td>A2CR57GAJKNWVV</td>\n",
              "      <td>0.750000</td>\n",
              "      <td>4.0</td>\n",
              "      <td>1106956800</td>\n",
              "      <td>Thoughtful and Powerful</td>\n",
              "      <td>Russell Walker wants to be left alone to die--...</td>\n",
              "    </tr>\n",
              "    <tr>\n",
              "      <th>2999937</th>\n",
              "      <td>0786182431</td>\n",
              "      <td>Very Bad Deaths: Library Edition</td>\n",
              "      <td>A1I2O9Y3X3HXLS</td>\n",
              "      <td>1.000000</td>\n",
              "      <td>5.0</td>\n",
              "      <td>1230595200</td>\n",
              "      <td>The Perils of Telepathy</td>\n",
              "      <td>Very Bad Deaths (2004) is the first SF novel i...</td>\n",
              "    </tr>\n",
              "    <tr>\n",
              "      <th>2999949</th>\n",
              "      <td>0786182431</td>\n",
              "      <td>Very Bad Deaths: Library Edition</td>\n",
              "      <td>AFVQZQ8PW0L</td>\n",
              "      <td>0.714286</td>\n",
              "      <td>5.0</td>\n",
              "      <td>1103846400</td>\n",
              "      <td>fantastic paranormal serial killer tale</td>\n",
              "      <td>Fiftyish Canadian Russell Walker writes \"The F...</td>\n",
              "    </tr>\n",
              "    <tr>\n",
              "      <th>2999979</th>\n",
              "      <td>B00085PL4C</td>\n",
              "      <td>Old Quebec,: The fortress of New France,</td>\n",
              "      <td>A32ZKBXJJ45BRY</td>\n",
              "      <td>0.666667</td>\n",
              "      <td>3.0</td>\n",
              "      <td>1097452800</td>\n",
              "      <td>Showing Its Age</td>\n",
              "      <td>\"Old Quebec: Fortress Of New France\" is a repr...</td>\n",
              "    </tr>\n",
              "  </tbody>\n",
              "</table>\n",
              "<p>109594 rows × 8 columns</p>\n",
              "</div>\n",
              "      <button class=\"colab-df-convert\" onclick=\"convertToInteractive('df-2ad9c6c8-ecfc-4edd-a7db-52a1bb5a2119')\"\n",
              "              title=\"Convert this dataframe to an interactive table.\"\n",
              "              style=\"display:none;\">\n",
              "        \n",
              "  <svg xmlns=\"http://www.w3.org/2000/svg\" height=\"24px\"viewBox=\"0 0 24 24\"\n",
              "       width=\"24px\">\n",
              "    <path d=\"M0 0h24v24H0V0z\" fill=\"none\"/>\n",
              "    <path d=\"M18.56 5.44l.94 2.06.94-2.06 2.06-.94-2.06-.94-.94-2.06-.94 2.06-2.06.94zm-11 1L8.5 8.5l.94-2.06 2.06-.94-2.06-.94L8.5 2.5l-.94 2.06-2.06.94zm10 10l.94 2.06.94-2.06 2.06-.94-2.06-.94-.94-2.06-.94 2.06-2.06.94z\"/><path d=\"M17.41 7.96l-1.37-1.37c-.4-.4-.92-.59-1.43-.59-.52 0-1.04.2-1.43.59L10.3 9.45l-7.72 7.72c-.78.78-.78 2.05 0 2.83L4 21.41c.39.39.9.59 1.41.59.51 0 1.02-.2 1.41-.59l7.78-7.78 2.81-2.81c.8-.78.8-2.07 0-2.86zM5.41 20L4 18.59l7.72-7.72 1.47 1.35L5.41 20z\"/>\n",
              "  </svg>\n",
              "      </button>\n",
              "      \n",
              "  <style>\n",
              "    .colab-df-container {\n",
              "      display:flex;\n",
              "      flex-wrap:wrap;\n",
              "      gap: 12px;\n",
              "    }\n",
              "\n",
              "    .colab-df-convert {\n",
              "      background-color: #E8F0FE;\n",
              "      border: none;\n",
              "      border-radius: 50%;\n",
              "      cursor: pointer;\n",
              "      display: none;\n",
              "      fill: #1967D2;\n",
              "      height: 32px;\n",
              "      padding: 0 0 0 0;\n",
              "      width: 32px;\n",
              "    }\n",
              "\n",
              "    .colab-df-convert:hover {\n",
              "      background-color: #E2EBFA;\n",
              "      box-shadow: 0px 1px 2px rgba(60, 64, 67, 0.3), 0px 1px 3px 1px rgba(60, 64, 67, 0.15);\n",
              "      fill: #174EA6;\n",
              "    }\n",
              "\n",
              "    [theme=dark] .colab-df-convert {\n",
              "      background-color: #3B4455;\n",
              "      fill: #D2E3FC;\n",
              "    }\n",
              "\n",
              "    [theme=dark] .colab-df-convert:hover {\n",
              "      background-color: #434B5C;\n",
              "      box-shadow: 0px 1px 3px 1px rgba(0, 0, 0, 0.15);\n",
              "      filter: drop-shadow(0px 1px 2px rgba(0, 0, 0, 0.3));\n",
              "      fill: #FFFFFF;\n",
              "    }\n",
              "  </style>\n",
              "\n",
              "      <script>\n",
              "        const buttonEl =\n",
              "          document.querySelector('#df-2ad9c6c8-ecfc-4edd-a7db-52a1bb5a2119 button.colab-df-convert');\n",
              "        buttonEl.style.display =\n",
              "          google.colab.kernel.accessAllowed ? 'block' : 'none';\n",
              "\n",
              "        async function convertToInteractive(key) {\n",
              "          const element = document.querySelector('#df-2ad9c6c8-ecfc-4edd-a7db-52a1bb5a2119');\n",
              "          const dataTable =\n",
              "            await google.colab.kernel.invokeFunction('convertToInteractive',\n",
              "                                                     [key], {});\n",
              "          if (!dataTable) return;\n",
              "\n",
              "          const docLinkHtml = 'Like what you see? Visit the ' +\n",
              "            '<a target=\"_blank\" href=https://colab.research.google.com/notebooks/data_table.ipynb>data table notebook</a>'\n",
              "            + ' to learn more about interactive tables.';\n",
              "          element.innerHTML = '';\n",
              "          dataTable['output_type'] = 'display_data';\n",
              "          await google.colab.output.renderOutput(dataTable, element);\n",
              "          const docLink = document.createElement('div');\n",
              "          docLink.innerHTML = docLinkHtml;\n",
              "          element.appendChild(docLink);\n",
              "        }\n",
              "      </script>\n",
              "    </div>\n",
              "  </div>\n",
              "  "
            ],
            "text/plain": [
              "            book_id                                              title  \\\n",
              "1        0826414346                           Dr. Seuss: American Icon   \n",
              "6        0826414346                           Dr. Seuss: American Icon   \n",
              "59       0963923080  Rising Sons and Daughters: Life Among Japan's ...   \n",
              "140      0789480662                  Eyewitness Travel Guide to Europe   \n",
              "176      1884734766  Dealing With Disappointment: Helping Kids Cope...   \n",
              "...             ...                                                ...   \n",
              "2999892  0425200736                         Echoes (Berkley Sensation)   \n",
              "2999935  0786182431                   Very Bad Deaths: Library Edition   \n",
              "2999937  0786182431                   Very Bad Deaths: Library Edition   \n",
              "2999949  0786182431                   Very Bad Deaths: Library Edition   \n",
              "2999979  B00085PL4C           Old Quebec,: The fortress of New France,   \n",
              "\n",
              "                user_id  helpfulness  rating        time  \\\n",
              "1        A30TK6U7DNS82R     1.000000     5.0  1095724800   \n",
              "6        A14OJS0VWMOSWO     0.750000     5.0  1100131200   \n",
              "59       A3NIQK6ZLYEP1L          NaN     4.0  1239667200   \n",
              "140      A281NPSIMI1C2R     1.000000     5.0  1023235200   \n",
              "176      A14OJS0VWMOSWO     0.941176     5.0  1081814400   \n",
              "...                 ...          ...     ...         ...   \n",
              "2999892     AFVQZQ8PW0L     0.800000     5.0  1099180800   \n",
              "2999935  A2CR57GAJKNWVV     0.750000     4.0  1106956800   \n",
              "2999937  A1I2O9Y3X3HXLS     1.000000     5.0  1230595200   \n",
              "2999949     AFVQZQ8PW0L     0.714286     5.0  1103846400   \n",
              "2999979  A32ZKBXJJ45BRY     0.666667     3.0  1097452800   \n",
              "\n",
              "                                                   summary  \\\n",
              "1                                        Really Enjoyed It   \n",
              "6        A memorably excellent survey of Dr. Seuss' man...   \n",
              "59                                Almost a day by day view   \n",
              "140        The Major Sights in Twenty Countries - Amazing!   \n",
              "176      Filled from cover to cover with practical guid...   \n",
              "...                                                    ...   \n",
              "2999892                         Engaging romantic suspense   \n",
              "2999935                            Thoughtful and Powerful   \n",
              "2999937                            The Perils of Telepathy   \n",
              "2999949            fantastic paranormal serial killer tale   \n",
              "2999979                                    Showing Its Age   \n",
              "\n",
              "                                                    review  \n",
              "1        I don't care much for Dr. Seuss but after read...  \n",
              "6        Theodor Seuss Giesel was best known as 'Dr. Se...  \n",
              "59       Steven Wardell went to Japan without reading a...  \n",
              "140      Yes, this is one heavy book. It is more than l...  \n",
              "176      Written by Elizabeth Crary (a parent educator ...  \n",
              "...                                                    ...  \n",
              "2999892  Mountain Bend, California elementary school pr...  \n",
              "2999935  Russell Walker wants to be left alone to die--...  \n",
              "2999937  Very Bad Deaths (2004) is the first SF novel i...  \n",
              "2999949  Fiftyish Canadian Russell Walker writes \"The F...  \n",
              "2999979  \"Old Quebec: Fortress Of New France\" is a repr...  \n",
              "\n",
              "[109594 rows x 8 columns]"
            ]
          },
          "execution_count": 69,
          "metadata": {},
          "output_type": "execute_result"
        }
      ],
      "source": [
        "filtered_rating = ratings[ratings['user_id'].isin(considerable_users)]\n",
        "\n",
        "filtered_rating"
      ]
    },
    {
      "cell_type": "code",
      "execution_count": null,
      "id": "5feDYemCPMWH",
      "metadata": {
        "id": "5feDYemCPMWH"
      },
      "outputs": [],
      "source": []
    },
    {
      "cell_type": "markdown",
      "id": "vgoHR9e-T5IS",
      "metadata": {
        "id": "vgoHR9e-T5IS"
      },
      "source": [
        "# Book Recommendation System"
      ]
    },
    {
      "cell_type": "code",
      "execution_count": null,
      "id": "rolWW0GfT_b6",
      "metadata": {
        "id": "rolWW0GfT_b6"
      },
      "outputs": [],
      "source": [
        "import numpy as np\n",
        "import pandas as pd"
      ]
    },
    {
      "cell_type": "code",
      "execution_count": null,
      "id": "lTXIa9aCUEaY",
      "metadata": {
        "colab": {
          "base_uri": "https://localhost:8080/"
        },
        "id": "lTXIa9aCUEaY",
        "outputId": "40059529-db60-4653-e076-cfcd51f613b9"
      },
      "outputs": [
        {
          "name": "stdout",
          "output_type": "stream",
          "text": [
            "Drive already mounted at /content/drive; to attempt to forcibly remount, call drive.mount(\"/content/drive\", force_remount=True).\n"
          ]
        }
      ],
      "source": [
        "from google.colab import drive\n",
        "drive.mount('/content/drive')\n",
        "\n",
        "pd.options.display.max_rows = 999"
      ]
    },
    {
      "cell_type": "code",
      "execution_count": null,
      "id": "uWSoIR-0UIZH",
      "metadata": {
        "id": "uWSoIR-0UIZH"
      },
      "outputs": [],
      "source": [
        "books = pd.read_csv('/content/drive/My Drive/Colab Notebooks/books_data.csv')"
      ]
    },
    {
      "cell_type": "code",
      "execution_count": null,
      "id": "rUFbk7cPOfVb",
      "metadata": {
        "colab": {
          "base_uri": "https://localhost:8080/",
          "height": 35
        },
        "id": "rUFbk7cPOfVb",
        "outputId": "061fe2b3-e285-40c9-f7aa-641c0a5ae125"
      },
      "outputs": [
        {
          "data": {
            "application/vnd.google.colaboratory.intrinsic+json": {
              "type": "string"
            },
            "text/plain": [
              "\"171738    Harper Lee's classic novel of a lawyer in the ...\\nName: description, dtype: object\""
            ]
          },
          "execution_count": 73,
          "metadata": {},
          "output_type": "execute_result"
        }
      ],
      "source": [
        "s = str(books[books['Title']=='To Kill a Mockingbird']['description'])\n",
        "s"
      ]
    },
    {
      "cell_type": "code",
      "execution_count": null,
      "id": "yuX1hqGUPC7R",
      "metadata": {
        "colab": {
          "base_uri": "https://localhost:8080/"
        },
        "id": "yuX1hqGUPC7R",
        "outputId": "5d6e7de5-b995-479e-9a11-f37a0bc0dd93"
      },
      "outputs": [
        {
          "data": {
            "text/plain": [
              "96169    Voted America's Best-Loved Novel in PBS's The ...\n",
              "Name: description, dtype: object"
            ]
          },
          "execution_count": 74,
          "metadata": {},
          "output_type": "execute_result"
        }
      ],
      "source": [
        "books[books['Title']=='To kill a mockingbird']['description']"
      ]
    },
    {
      "cell_type": "code",
      "execution_count": null,
      "id": "mef3p4hCUOLT",
      "metadata": {
        "id": "mef3p4hCUOLT"
      },
      "outputs": [],
      "source": [
        "ratings = pd.read_csv('/content/drive/My Drive/Colab Notebooks/Books_rating.csv')"
      ]
    },
    {
      "cell_type": "code",
      "execution_count": null,
      "id": "_7L3FaxhUR_3",
      "metadata": {
        "colab": {
          "base_uri": "https://localhost:8080/",
          "height": 239
        },
        "id": "_7L3FaxhUR_3",
        "outputId": "852f0183-18a1-4b7c-80e2-3ae6d2f50983"
      },
      "outputs": [
        {
          "data": {
            "text/html": [
              "\n",
              "  <div id=\"df-218e89d2-ac49-4e6f-9303-39c3f6e090db\">\n",
              "    <div class=\"colab-df-container\">\n",
              "      <div>\n",
              "<style scoped>\n",
              "    .dataframe tbody tr th:only-of-type {\n",
              "        vertical-align: middle;\n",
              "    }\n",
              "\n",
              "    .dataframe tbody tr th {\n",
              "        vertical-align: top;\n",
              "    }\n",
              "\n",
              "    .dataframe thead th {\n",
              "        text-align: right;\n",
              "    }\n",
              "</style>\n",
              "<table border=\"1\" class=\"dataframe\">\n",
              "  <thead>\n",
              "    <tr style=\"text-align: right;\">\n",
              "      <th></th>\n",
              "      <th>Id</th>\n",
              "      <th>Title</th>\n",
              "      <th>Price</th>\n",
              "      <th>User_id</th>\n",
              "      <th>profileName</th>\n",
              "      <th>review/helpfulness</th>\n",
              "      <th>review/score</th>\n",
              "      <th>review/time</th>\n",
              "      <th>review/summary</th>\n",
              "      <th>review/text</th>\n",
              "    </tr>\n",
              "  </thead>\n",
              "  <tbody>\n",
              "    <tr>\n",
              "      <th>0</th>\n",
              "      <td>1882931173</td>\n",
              "      <td>Its Only Art If Its Well Hung!</td>\n",
              "      <td>NaN</td>\n",
              "      <td>AVCGYZL8FQQTD</td>\n",
              "      <td>Jim of Oz \"jim-of-oz\"</td>\n",
              "      <td>7/7</td>\n",
              "      <td>4.0</td>\n",
              "      <td>940636800</td>\n",
              "      <td>Nice collection of Julie Strain images</td>\n",
              "      <td>This is only for Julie Strain fans. It's a col...</td>\n",
              "    </tr>\n",
              "    <tr>\n",
              "      <th>1</th>\n",
              "      <td>0826414346</td>\n",
              "      <td>Dr. Seuss: American Icon</td>\n",
              "      <td>NaN</td>\n",
              "      <td>A30TK6U7DNS82R</td>\n",
              "      <td>Kevin Killian</td>\n",
              "      <td>10/10</td>\n",
              "      <td>5.0</td>\n",
              "      <td>1095724800</td>\n",
              "      <td>Really Enjoyed It</td>\n",
              "      <td>I don't care much for Dr. Seuss but after read...</td>\n",
              "    </tr>\n",
              "    <tr>\n",
              "      <th>2</th>\n",
              "      <td>0826414346</td>\n",
              "      <td>Dr. Seuss: American Icon</td>\n",
              "      <td>NaN</td>\n",
              "      <td>A3UH4UZ4RSVO82</td>\n",
              "      <td>John Granger</td>\n",
              "      <td>10/11</td>\n",
              "      <td>5.0</td>\n",
              "      <td>1078790400</td>\n",
              "      <td>Essential for every personal and Public Library</td>\n",
              "      <td>If people become the books they read and if \"t...</td>\n",
              "    </tr>\n",
              "  </tbody>\n",
              "</table>\n",
              "</div>\n",
              "      <button class=\"colab-df-convert\" onclick=\"convertToInteractive('df-218e89d2-ac49-4e6f-9303-39c3f6e090db')\"\n",
              "              title=\"Convert this dataframe to an interactive table.\"\n",
              "              style=\"display:none;\">\n",
              "        \n",
              "  <svg xmlns=\"http://www.w3.org/2000/svg\" height=\"24px\"viewBox=\"0 0 24 24\"\n",
              "       width=\"24px\">\n",
              "    <path d=\"M0 0h24v24H0V0z\" fill=\"none\"/>\n",
              "    <path d=\"M18.56 5.44l.94 2.06.94-2.06 2.06-.94-2.06-.94-.94-2.06-.94 2.06-2.06.94zm-11 1L8.5 8.5l.94-2.06 2.06-.94-2.06-.94L8.5 2.5l-.94 2.06-2.06.94zm10 10l.94 2.06.94-2.06 2.06-.94-2.06-.94-.94-2.06-.94 2.06-2.06.94z\"/><path d=\"M17.41 7.96l-1.37-1.37c-.4-.4-.92-.59-1.43-.59-.52 0-1.04.2-1.43.59L10.3 9.45l-7.72 7.72c-.78.78-.78 2.05 0 2.83L4 21.41c.39.39.9.59 1.41.59.51 0 1.02-.2 1.41-.59l7.78-7.78 2.81-2.81c.8-.78.8-2.07 0-2.86zM5.41 20L4 18.59l7.72-7.72 1.47 1.35L5.41 20z\"/>\n",
              "  </svg>\n",
              "      </button>\n",
              "      \n",
              "  <style>\n",
              "    .colab-df-container {\n",
              "      display:flex;\n",
              "      flex-wrap:wrap;\n",
              "      gap: 12px;\n",
              "    }\n",
              "\n",
              "    .colab-df-convert {\n",
              "      background-color: #E8F0FE;\n",
              "      border: none;\n",
              "      border-radius: 50%;\n",
              "      cursor: pointer;\n",
              "      display: none;\n",
              "      fill: #1967D2;\n",
              "      height: 32px;\n",
              "      padding: 0 0 0 0;\n",
              "      width: 32px;\n",
              "    }\n",
              "\n",
              "    .colab-df-convert:hover {\n",
              "      background-color: #E2EBFA;\n",
              "      box-shadow: 0px 1px 2px rgba(60, 64, 67, 0.3), 0px 1px 3px 1px rgba(60, 64, 67, 0.15);\n",
              "      fill: #174EA6;\n",
              "    }\n",
              "\n",
              "    [theme=dark] .colab-df-convert {\n",
              "      background-color: #3B4455;\n",
              "      fill: #D2E3FC;\n",
              "    }\n",
              "\n",
              "    [theme=dark] .colab-df-convert:hover {\n",
              "      background-color: #434B5C;\n",
              "      box-shadow: 0px 1px 3px 1px rgba(0, 0, 0, 0.15);\n",
              "      filter: drop-shadow(0px 1px 2px rgba(0, 0, 0, 0.3));\n",
              "      fill: #FFFFFF;\n",
              "    }\n",
              "  </style>\n",
              "\n",
              "      <script>\n",
              "        const buttonEl =\n",
              "          document.querySelector('#df-218e89d2-ac49-4e6f-9303-39c3f6e090db button.colab-df-convert');\n",
              "        buttonEl.style.display =\n",
              "          google.colab.kernel.accessAllowed ? 'block' : 'none';\n",
              "\n",
              "        async function convertToInteractive(key) {\n",
              "          const element = document.querySelector('#df-218e89d2-ac49-4e6f-9303-39c3f6e090db');\n",
              "          const dataTable =\n",
              "            await google.colab.kernel.invokeFunction('convertToInteractive',\n",
              "                                                     [key], {});\n",
              "          if (!dataTable) return;\n",
              "\n",
              "          const docLinkHtml = 'Like what you see? Visit the ' +\n",
              "            '<a target=\"_blank\" href=https://colab.research.google.com/notebooks/data_table.ipynb>data table notebook</a>'\n",
              "            + ' to learn more about interactive tables.';\n",
              "          element.innerHTML = '';\n",
              "          dataTable['output_type'] = 'display_data';\n",
              "          await google.colab.output.renderOutput(dataTable, element);\n",
              "          const docLink = document.createElement('div');\n",
              "          docLink.innerHTML = docLinkHtml;\n",
              "          element.appendChild(docLink);\n",
              "        }\n",
              "      </script>\n",
              "    </div>\n",
              "  </div>\n",
              "  "
            ],
            "text/plain": [
              "           Id                           Title  Price         User_id  \\\n",
              "0  1882931173  Its Only Art If Its Well Hung!    NaN   AVCGYZL8FQQTD   \n",
              "1  0826414346        Dr. Seuss: American Icon    NaN  A30TK6U7DNS82R   \n",
              "2  0826414346        Dr. Seuss: American Icon    NaN  A3UH4UZ4RSVO82   \n",
              "\n",
              "             profileName review/helpfulness  review/score  review/time  \\\n",
              "0  Jim of Oz \"jim-of-oz\"                7/7           4.0    940636800   \n",
              "1          Kevin Killian              10/10           5.0   1095724800   \n",
              "2           John Granger              10/11           5.0   1078790400   \n",
              "\n",
              "                                    review/summary  \\\n",
              "0           Nice collection of Julie Strain images   \n",
              "1                                Really Enjoyed It   \n",
              "2  Essential for every personal and Public Library   \n",
              "\n",
              "                                         review/text  \n",
              "0  This is only for Julie Strain fans. It's a col...  \n",
              "1  I don't care much for Dr. Seuss but after read...  \n",
              "2  If people become the books they read and if \"t...  "
            ]
          },
          "execution_count": 76,
          "metadata": {},
          "output_type": "execute_result"
        }
      ],
      "source": [
        "ratings.head(3)"
      ]
    },
    {
      "cell_type": "code",
      "execution_count": null,
      "id": "InQjFLQtVjK_",
      "metadata": {
        "id": "InQjFLQtVjK_"
      },
      "outputs": [],
      "source": [
        "ratings.rename(columns={'Id':'book_id', 'User_id':'user_id', 'review/helpfulness':'helpfulness', 'review/score':'rating', 'review/text': 'review'}, inplace=True)"
      ]
    },
    {
      "cell_type": "code",
      "execution_count": null,
      "id": "Xtbl34Z19Cc3",
      "metadata": {
        "id": "Xtbl34Z19Cc3"
      },
      "outputs": [],
      "source": [
        "ratings.rename(columns={'Title':'book_title'}, inplace=True)"
      ]
    },
    {
      "cell_type": "code",
      "execution_count": null,
      "id": "lIh_pBYxXttN",
      "metadata": {
        "id": "lIh_pBYxXttN"
      },
      "outputs": [],
      "source": [
        "ratings.drop(['review/time','review/summary', 'Price'] , axis=1, inplace=True)"
      ]
    },
    {
      "cell_type": "code",
      "execution_count": null,
      "id": "59k_B5Xp8E8Q",
      "metadata": {
        "id": "59k_B5Xp8E8Q"
      },
      "outputs": [],
      "source": [
        "ratings.drop('profileName', axis=1, inplace=True)"
      ]
    },
    {
      "cell_type": "code",
      "execution_count": null,
      "id": "C2-bn2eD8Uzi",
      "metadata": {
        "id": "C2-bn2eD8Uzi"
      },
      "outputs": [],
      "source": [
        "ratings['helpfulness'] = ratings['helpfulness'].apply(lambda x: x.split('/'))\n",
        "ratings['helpfulness'] = ratings['helpfulness'].apply(lambda x: [eval(x[0]), eval(x[1])])\n",
        "ratings['helpfulness'] = ratings['helpfulness'].apply(lambda x: x[0]/x[1] if x[1] != 0 else None)"
      ]
    },
    {
      "cell_type": "code",
      "execution_count": null,
      "id": "WoF4d-71Ypor",
      "metadata": {
        "colab": {
          "base_uri": "https://localhost:8080/",
          "height": 206
        },
        "id": "WoF4d-71Ypor",
        "outputId": "ef8774a2-7f73-4658-c5c5-14e380071fd2"
      },
      "outputs": [
        {
          "data": {
            "text/html": [
              "\n",
              "  <div id=\"df-4a64415e-0e0c-4749-87df-8c45e477c332\">\n",
              "    <div class=\"colab-df-container\">\n",
              "      <div>\n",
              "<style scoped>\n",
              "    .dataframe tbody tr th:only-of-type {\n",
              "        vertical-align: middle;\n",
              "    }\n",
              "\n",
              "    .dataframe tbody tr th {\n",
              "        vertical-align: top;\n",
              "    }\n",
              "\n",
              "    .dataframe thead th {\n",
              "        text-align: right;\n",
              "    }\n",
              "</style>\n",
              "<table border=\"1\" class=\"dataframe\">\n",
              "  <thead>\n",
              "    <tr style=\"text-align: right;\">\n",
              "      <th></th>\n",
              "      <th>book_id</th>\n",
              "      <th>book_title</th>\n",
              "      <th>user_id</th>\n",
              "      <th>helpfulness</th>\n",
              "      <th>rating</th>\n",
              "      <th>review</th>\n",
              "    </tr>\n",
              "  </thead>\n",
              "  <tbody>\n",
              "    <tr>\n",
              "      <th>0</th>\n",
              "      <td>1882931173</td>\n",
              "      <td>Its Only Art If Its Well Hung!</td>\n",
              "      <td>AVCGYZL8FQQTD</td>\n",
              "      <td>1.000000</td>\n",
              "      <td>4.0</td>\n",
              "      <td>This is only for Julie Strain fans. It's a col...</td>\n",
              "    </tr>\n",
              "    <tr>\n",
              "      <th>1</th>\n",
              "      <td>0826414346</td>\n",
              "      <td>Dr. Seuss: American Icon</td>\n",
              "      <td>A30TK6U7DNS82R</td>\n",
              "      <td>1.000000</td>\n",
              "      <td>5.0</td>\n",
              "      <td>I don't care much for Dr. Seuss but after read...</td>\n",
              "    </tr>\n",
              "    <tr>\n",
              "      <th>2</th>\n",
              "      <td>0826414346</td>\n",
              "      <td>Dr. Seuss: American Icon</td>\n",
              "      <td>A3UH4UZ4RSVO82</td>\n",
              "      <td>0.909091</td>\n",
              "      <td>5.0</td>\n",
              "      <td>If people become the books they read and if \"t...</td>\n",
              "    </tr>\n",
              "    <tr>\n",
              "      <th>3</th>\n",
              "      <td>0826414346</td>\n",
              "      <td>Dr. Seuss: American Icon</td>\n",
              "      <td>A2MVUWT453QH61</td>\n",
              "      <td>1.000000</td>\n",
              "      <td>4.0</td>\n",
              "      <td>Theodore Seuss Geisel (1904-1991), aka &amp;quot;D...</td>\n",
              "    </tr>\n",
              "    <tr>\n",
              "      <th>4</th>\n",
              "      <td>0826414346</td>\n",
              "      <td>Dr. Seuss: American Icon</td>\n",
              "      <td>A22X4XUPKF66MR</td>\n",
              "      <td>1.000000</td>\n",
              "      <td>4.0</td>\n",
              "      <td>Philip Nel - Dr. Seuss: American IconThis is b...</td>\n",
              "    </tr>\n",
              "  </tbody>\n",
              "</table>\n",
              "</div>\n",
              "      <button class=\"colab-df-convert\" onclick=\"convertToInteractive('df-4a64415e-0e0c-4749-87df-8c45e477c332')\"\n",
              "              title=\"Convert this dataframe to an interactive table.\"\n",
              "              style=\"display:none;\">\n",
              "        \n",
              "  <svg xmlns=\"http://www.w3.org/2000/svg\" height=\"24px\"viewBox=\"0 0 24 24\"\n",
              "       width=\"24px\">\n",
              "    <path d=\"M0 0h24v24H0V0z\" fill=\"none\"/>\n",
              "    <path d=\"M18.56 5.44l.94 2.06.94-2.06 2.06-.94-2.06-.94-.94-2.06-.94 2.06-2.06.94zm-11 1L8.5 8.5l.94-2.06 2.06-.94-2.06-.94L8.5 2.5l-.94 2.06-2.06.94zm10 10l.94 2.06.94-2.06 2.06-.94-2.06-.94-.94-2.06-.94 2.06-2.06.94z\"/><path d=\"M17.41 7.96l-1.37-1.37c-.4-.4-.92-.59-1.43-.59-.52 0-1.04.2-1.43.59L10.3 9.45l-7.72 7.72c-.78.78-.78 2.05 0 2.83L4 21.41c.39.39.9.59 1.41.59.51 0 1.02-.2 1.41-.59l7.78-7.78 2.81-2.81c.8-.78.8-2.07 0-2.86zM5.41 20L4 18.59l7.72-7.72 1.47 1.35L5.41 20z\"/>\n",
              "  </svg>\n",
              "      </button>\n",
              "      \n",
              "  <style>\n",
              "    .colab-df-container {\n",
              "      display:flex;\n",
              "      flex-wrap:wrap;\n",
              "      gap: 12px;\n",
              "    }\n",
              "\n",
              "    .colab-df-convert {\n",
              "      background-color: #E8F0FE;\n",
              "      border: none;\n",
              "      border-radius: 50%;\n",
              "      cursor: pointer;\n",
              "      display: none;\n",
              "      fill: #1967D2;\n",
              "      height: 32px;\n",
              "      padding: 0 0 0 0;\n",
              "      width: 32px;\n",
              "    }\n",
              "\n",
              "    .colab-df-convert:hover {\n",
              "      background-color: #E2EBFA;\n",
              "      box-shadow: 0px 1px 2px rgba(60, 64, 67, 0.3), 0px 1px 3px 1px rgba(60, 64, 67, 0.15);\n",
              "      fill: #174EA6;\n",
              "    }\n",
              "\n",
              "    [theme=dark] .colab-df-convert {\n",
              "      background-color: #3B4455;\n",
              "      fill: #D2E3FC;\n",
              "    }\n",
              "\n",
              "    [theme=dark] .colab-df-convert:hover {\n",
              "      background-color: #434B5C;\n",
              "      box-shadow: 0px 1px 3px 1px rgba(0, 0, 0, 0.15);\n",
              "      filter: drop-shadow(0px 1px 2px rgba(0, 0, 0, 0.3));\n",
              "      fill: #FFFFFF;\n",
              "    }\n",
              "  </style>\n",
              "\n",
              "      <script>\n",
              "        const buttonEl =\n",
              "          document.querySelector('#df-4a64415e-0e0c-4749-87df-8c45e477c332 button.colab-df-convert');\n",
              "        buttonEl.style.display =\n",
              "          google.colab.kernel.accessAllowed ? 'block' : 'none';\n",
              "\n",
              "        async function convertToInteractive(key) {\n",
              "          const element = document.querySelector('#df-4a64415e-0e0c-4749-87df-8c45e477c332');\n",
              "          const dataTable =\n",
              "            await google.colab.kernel.invokeFunction('convertToInteractive',\n",
              "                                                     [key], {});\n",
              "          if (!dataTable) return;\n",
              "\n",
              "          const docLinkHtml = 'Like what you see? Visit the ' +\n",
              "            '<a target=\"_blank\" href=https://colab.research.google.com/notebooks/data_table.ipynb>data table notebook</a>'\n",
              "            + ' to learn more about interactive tables.';\n",
              "          element.innerHTML = '';\n",
              "          dataTable['output_type'] = 'display_data';\n",
              "          await google.colab.output.renderOutput(dataTable, element);\n",
              "          const docLink = document.createElement('div');\n",
              "          docLink.innerHTML = docLinkHtml;\n",
              "          element.appendChild(docLink);\n",
              "        }\n",
              "      </script>\n",
              "    </div>\n",
              "  </div>\n",
              "  "
            ],
            "text/plain": [
              "      book_id                      book_title         user_id  helpfulness  \\\n",
              "0  1882931173  Its Only Art If Its Well Hung!   AVCGYZL8FQQTD     1.000000   \n",
              "1  0826414346        Dr. Seuss: American Icon  A30TK6U7DNS82R     1.000000   \n",
              "2  0826414346        Dr. Seuss: American Icon  A3UH4UZ4RSVO82     0.909091   \n",
              "3  0826414346        Dr. Seuss: American Icon  A2MVUWT453QH61     1.000000   \n",
              "4  0826414346        Dr. Seuss: American Icon  A22X4XUPKF66MR     1.000000   \n",
              "\n",
              "   rating                                             review  \n",
              "0     4.0  This is only for Julie Strain fans. It's a col...  \n",
              "1     5.0  I don't care much for Dr. Seuss but after read...  \n",
              "2     5.0  If people become the books they read and if \"t...  \n",
              "3     4.0  Theodore Seuss Geisel (1904-1991), aka &quot;D...  \n",
              "4     4.0  Philip Nel - Dr. Seuss: American IconThis is b...  "
            ]
          },
          "execution_count": 82,
          "metadata": {},
          "output_type": "execute_result"
        }
      ],
      "source": [
        "ratings.head()"
      ]
    },
    {
      "cell_type": "code",
      "execution_count": null,
      "id": "kJVwrae9Z6gD",
      "metadata": {
        "id": "kJVwrae9Z6gD"
      },
      "outputs": [],
      "source": [
        "x = ratings.groupby('user_id').count()['rating'] > 250\n",
        "considerable_users = x[x].index"
      ]
    },
    {
      "cell_type": "code",
      "execution_count": null,
      "id": "kgsL62MTa0Ld",
      "metadata": {
        "id": "kgsL62MTa0Ld"
      },
      "outputs": [],
      "source": [
        "filtered_rating = ratings[ratings['user_id'].isin(considerable_users)]"
      ]
    },
    {
      "cell_type": "code",
      "execution_count": null,
      "id": "IBCMIDQwa5h3",
      "metadata": {
        "colab": {
          "base_uri": "https://localhost:8080/"
        },
        "id": "IBCMIDQwa5h3",
        "outputId": "d8bff128-26cf-43b9-c0d5-46a16584bf06"
      },
      "outputs": [
        {
          "data": {
            "text/html": [
              "\n",
              "  <div id=\"df-a243b348-871a-4d23-abcf-d806f5c877f4\">\n",
              "    <div class=\"colab-df-container\">\n",
              "      <div>\n",
              "<style scoped>\n",
              "    .dataframe tbody tr th:only-of-type {\n",
              "        vertical-align: middle;\n",
              "    }\n",
              "\n",
              "    .dataframe tbody tr th {\n",
              "        vertical-align: top;\n",
              "    }\n",
              "\n",
              "    .dataframe thead th {\n",
              "        text-align: right;\n",
              "    }\n",
              "</style>\n",
              "<table border=\"1\" class=\"dataframe\">\n",
              "  <thead>\n",
              "    <tr style=\"text-align: right;\">\n",
              "      <th></th>\n",
              "      <th>book_id</th>\n",
              "      <th>book_title</th>\n",
              "      <th>user_id</th>\n",
              "      <th>helpfulness</th>\n",
              "      <th>rating</th>\n",
              "      <th>review</th>\n",
              "    </tr>\n",
              "  </thead>\n",
              "  <tbody>\n",
              "    <tr>\n",
              "      <th>1</th>\n",
              "      <td>0826414346</td>\n",
              "      <td>Dr. Seuss: American Icon</td>\n",
              "      <td>A30TK6U7DNS82R</td>\n",
              "      <td>1.000000</td>\n",
              "      <td>5.0</td>\n",
              "      <td>I don't care much for Dr. Seuss but after read...</td>\n",
              "    </tr>\n",
              "    <tr>\n",
              "      <th>6</th>\n",
              "      <td>0826414346</td>\n",
              "      <td>Dr. Seuss: American Icon</td>\n",
              "      <td>A14OJS0VWMOSWO</td>\n",
              "      <td>0.750000</td>\n",
              "      <td>5.0</td>\n",
              "      <td>Theodor Seuss Giesel was best known as 'Dr. Se...</td>\n",
              "    </tr>\n",
              "    <tr>\n",
              "      <th>59</th>\n",
              "      <td>0963923080</td>\n",
              "      <td>Rising Sons and Daughters: Life Among Japan's ...</td>\n",
              "      <td>A3NIQK6ZLYEP1L</td>\n",
              "      <td>NaN</td>\n",
              "      <td>4.0</td>\n",
              "      <td>Steven Wardell went to Japan without reading a...</td>\n",
              "    </tr>\n",
              "    <tr>\n",
              "      <th>140</th>\n",
              "      <td>0789480662</td>\n",
              "      <td>Eyewitness Travel Guide to Europe</td>\n",
              "      <td>A281NPSIMI1C2R</td>\n",
              "      <td>1.000000</td>\n",
              "      <td>5.0</td>\n",
              "      <td>Yes, this is one heavy book. It is more than l...</td>\n",
              "    </tr>\n",
              "    <tr>\n",
              "      <th>176</th>\n",
              "      <td>1884734766</td>\n",
              "      <td>Dealing With Disappointment: Helping Kids Cope...</td>\n",
              "      <td>A14OJS0VWMOSWO</td>\n",
              "      <td>0.941176</td>\n",
              "      <td>5.0</td>\n",
              "      <td>Written by Elizabeth Crary (a parent educator ...</td>\n",
              "    </tr>\n",
              "    <tr>\n",
              "      <th>...</th>\n",
              "      <td>...</td>\n",
              "      <td>...</td>\n",
              "      <td>...</td>\n",
              "      <td>...</td>\n",
              "      <td>...</td>\n",
              "      <td>...</td>\n",
              "    </tr>\n",
              "    <tr>\n",
              "      <th>2999892</th>\n",
              "      <td>0425200736</td>\n",
              "      <td>Echoes (Berkley Sensation)</td>\n",
              "      <td>AFVQZQ8PW0L</td>\n",
              "      <td>0.800000</td>\n",
              "      <td>5.0</td>\n",
              "      <td>Mountain Bend, California elementary school pr...</td>\n",
              "    </tr>\n",
              "    <tr>\n",
              "      <th>2999935</th>\n",
              "      <td>0786182431</td>\n",
              "      <td>Very Bad Deaths: Library Edition</td>\n",
              "      <td>A2CR57GAJKNWVV</td>\n",
              "      <td>0.750000</td>\n",
              "      <td>4.0</td>\n",
              "      <td>Russell Walker wants to be left alone to die--...</td>\n",
              "    </tr>\n",
              "    <tr>\n",
              "      <th>2999937</th>\n",
              "      <td>0786182431</td>\n",
              "      <td>Very Bad Deaths: Library Edition</td>\n",
              "      <td>A1I2O9Y3X3HXLS</td>\n",
              "      <td>1.000000</td>\n",
              "      <td>5.0</td>\n",
              "      <td>Very Bad Deaths (2004) is the first SF novel i...</td>\n",
              "    </tr>\n",
              "    <tr>\n",
              "      <th>2999949</th>\n",
              "      <td>0786182431</td>\n",
              "      <td>Very Bad Deaths: Library Edition</td>\n",
              "      <td>AFVQZQ8PW0L</td>\n",
              "      <td>0.714286</td>\n",
              "      <td>5.0</td>\n",
              "      <td>Fiftyish Canadian Russell Walker writes \"The F...</td>\n",
              "    </tr>\n",
              "    <tr>\n",
              "      <th>2999979</th>\n",
              "      <td>B00085PL4C</td>\n",
              "      <td>Old Quebec,: The fortress of New France,</td>\n",
              "      <td>A32ZKBXJJ45BRY</td>\n",
              "      <td>0.666667</td>\n",
              "      <td>3.0</td>\n",
              "      <td>\"Old Quebec: Fortress Of New France\" is a repr...</td>\n",
              "    </tr>\n",
              "  </tbody>\n",
              "</table>\n",
              "<p>109595 rows × 6 columns</p>\n",
              "</div>\n",
              "      <button class=\"colab-df-convert\" onclick=\"convertToInteractive('df-a243b348-871a-4d23-abcf-d806f5c877f4')\"\n",
              "              title=\"Convert this dataframe to an interactive table.\"\n",
              "              style=\"display:none;\">\n",
              "        \n",
              "  <svg xmlns=\"http://www.w3.org/2000/svg\" height=\"24px\"viewBox=\"0 0 24 24\"\n",
              "       width=\"24px\">\n",
              "    <path d=\"M0 0h24v24H0V0z\" fill=\"none\"/>\n",
              "    <path d=\"M18.56 5.44l.94 2.06.94-2.06 2.06-.94-2.06-.94-.94-2.06-.94 2.06-2.06.94zm-11 1L8.5 8.5l.94-2.06 2.06-.94-2.06-.94L8.5 2.5l-.94 2.06-2.06.94zm10 10l.94 2.06.94-2.06 2.06-.94-2.06-.94-.94-2.06-.94 2.06-2.06.94z\"/><path d=\"M17.41 7.96l-1.37-1.37c-.4-.4-.92-.59-1.43-.59-.52 0-1.04.2-1.43.59L10.3 9.45l-7.72 7.72c-.78.78-.78 2.05 0 2.83L4 21.41c.39.39.9.59 1.41.59.51 0 1.02-.2 1.41-.59l7.78-7.78 2.81-2.81c.8-.78.8-2.07 0-2.86zM5.41 20L4 18.59l7.72-7.72 1.47 1.35L5.41 20z\"/>\n",
              "  </svg>\n",
              "      </button>\n",
              "      \n",
              "  <style>\n",
              "    .colab-df-container {\n",
              "      display:flex;\n",
              "      flex-wrap:wrap;\n",
              "      gap: 12px;\n",
              "    }\n",
              "\n",
              "    .colab-df-convert {\n",
              "      background-color: #E8F0FE;\n",
              "      border: none;\n",
              "      border-radius: 50%;\n",
              "      cursor: pointer;\n",
              "      display: none;\n",
              "      fill: #1967D2;\n",
              "      height: 32px;\n",
              "      padding: 0 0 0 0;\n",
              "      width: 32px;\n",
              "    }\n",
              "\n",
              "    .colab-df-convert:hover {\n",
              "      background-color: #E2EBFA;\n",
              "      box-shadow: 0px 1px 2px rgba(60, 64, 67, 0.3), 0px 1px 3px 1px rgba(60, 64, 67, 0.15);\n",
              "      fill: #174EA6;\n",
              "    }\n",
              "\n",
              "    [theme=dark] .colab-df-convert {\n",
              "      background-color: #3B4455;\n",
              "      fill: #D2E3FC;\n",
              "    }\n",
              "\n",
              "    [theme=dark] .colab-df-convert:hover {\n",
              "      background-color: #434B5C;\n",
              "      box-shadow: 0px 1px 3px 1px rgba(0, 0, 0, 0.15);\n",
              "      filter: drop-shadow(0px 1px 2px rgba(0, 0, 0, 0.3));\n",
              "      fill: #FFFFFF;\n",
              "    }\n",
              "  </style>\n",
              "\n",
              "      <script>\n",
              "        const buttonEl =\n",
              "          document.querySelector('#df-a243b348-871a-4d23-abcf-d806f5c877f4 button.colab-df-convert');\n",
              "        buttonEl.style.display =\n",
              "          google.colab.kernel.accessAllowed ? 'block' : 'none';\n",
              "\n",
              "        async function convertToInteractive(key) {\n",
              "          const element = document.querySelector('#df-a243b348-871a-4d23-abcf-d806f5c877f4');\n",
              "          const dataTable =\n",
              "            await google.colab.kernel.invokeFunction('convertToInteractive',\n",
              "                                                     [key], {});\n",
              "          if (!dataTable) return;\n",
              "\n",
              "          const docLinkHtml = 'Like what you see? Visit the ' +\n",
              "            '<a target=\"_blank\" href=https://colab.research.google.com/notebooks/data_table.ipynb>data table notebook</a>'\n",
              "            + ' to learn more about interactive tables.';\n",
              "          element.innerHTML = '';\n",
              "          dataTable['output_type'] = 'display_data';\n",
              "          await google.colab.output.renderOutput(dataTable, element);\n",
              "          const docLink = document.createElement('div');\n",
              "          docLink.innerHTML = docLinkHtml;\n",
              "          element.appendChild(docLink);\n",
              "        }\n",
              "      </script>\n",
              "    </div>\n",
              "  </div>\n",
              "  "
            ],
            "text/plain": [
              "            book_id                                         book_title  \\\n",
              "1        0826414346                           Dr. Seuss: American Icon   \n",
              "6        0826414346                           Dr. Seuss: American Icon   \n",
              "59       0963923080  Rising Sons and Daughters: Life Among Japan's ...   \n",
              "140      0789480662                  Eyewitness Travel Guide to Europe   \n",
              "176      1884734766  Dealing With Disappointment: Helping Kids Cope...   \n",
              "...             ...                                                ...   \n",
              "2999892  0425200736                         Echoes (Berkley Sensation)   \n",
              "2999935  0786182431                   Very Bad Deaths: Library Edition   \n",
              "2999937  0786182431                   Very Bad Deaths: Library Edition   \n",
              "2999949  0786182431                   Very Bad Deaths: Library Edition   \n",
              "2999979  B00085PL4C           Old Quebec,: The fortress of New France,   \n",
              "\n",
              "                user_id  helpfulness  rating  \\\n",
              "1        A30TK6U7DNS82R     1.000000     5.0   \n",
              "6        A14OJS0VWMOSWO     0.750000     5.0   \n",
              "59       A3NIQK6ZLYEP1L          NaN     4.0   \n",
              "140      A281NPSIMI1C2R     1.000000     5.0   \n",
              "176      A14OJS0VWMOSWO     0.941176     5.0   \n",
              "...                 ...          ...     ...   \n",
              "2999892     AFVQZQ8PW0L     0.800000     5.0   \n",
              "2999935  A2CR57GAJKNWVV     0.750000     4.0   \n",
              "2999937  A1I2O9Y3X3HXLS     1.000000     5.0   \n",
              "2999949     AFVQZQ8PW0L     0.714286     5.0   \n",
              "2999979  A32ZKBXJJ45BRY     0.666667     3.0   \n",
              "\n",
              "                                                    review  \n",
              "1        I don't care much for Dr. Seuss but after read...  \n",
              "6        Theodor Seuss Giesel was best known as 'Dr. Se...  \n",
              "59       Steven Wardell went to Japan without reading a...  \n",
              "140      Yes, this is one heavy book. It is more than l...  \n",
              "176      Written by Elizabeth Crary (a parent educator ...  \n",
              "...                                                    ...  \n",
              "2999892  Mountain Bend, California elementary school pr...  \n",
              "2999935  Russell Walker wants to be left alone to die--...  \n",
              "2999937  Very Bad Deaths (2004) is the first SF novel i...  \n",
              "2999949  Fiftyish Canadian Russell Walker writes \"The F...  \n",
              "2999979  \"Old Quebec: Fortress Of New France\" is a repr...  \n",
              "\n",
              "[109595 rows x 6 columns]"
            ]
          },
          "execution_count": 85,
          "metadata": {},
          "output_type": "execute_result"
        }
      ],
      "source": [
        "filtered_rating"
      ]
    },
    {
      "cell_type": "code",
      "execution_count": null,
      "id": "5Eh4Unr5a6kA",
      "metadata": {
        "id": "5Eh4Unr5a6kA"
      },
      "outputs": [],
      "source": [
        "y = filtered_rating.groupby('book_title').count()['rating']>=25\n",
        "famous_books = y[y].index"
      ]
    },
    {
      "cell_type": "code",
      "execution_count": null,
      "id": "Og_xR4Maa_qg",
      "metadata": {
        "id": "Og_xR4Maa_qg"
      },
      "outputs": [],
      "source": [
        "final_ratings = filtered_rating[(filtered_rating['book_title'].isin(famous_books))]"
      ]
    },
    {
      "cell_type": "code",
      "execution_count": null,
      "id": "XdxlrrY6d5iM",
      "metadata": {
        "colab": {
          "base_uri": "https://localhost:8080/"
        },
        "id": "XdxlrrY6d5iM",
        "outputId": "2d7593cc-6036-4f55-dcab-2fa81d82d9b6"
      },
      "outputs": [
        {
          "data": {
            "text/html": [
              "\n",
              "  <div id=\"df-9639ff7b-7193-4d20-9c4a-73549b752c58\">\n",
              "    <div class=\"colab-df-container\">\n",
              "      <div>\n",
              "<style scoped>\n",
              "    .dataframe tbody tr th:only-of-type {\n",
              "        vertical-align: middle;\n",
              "    }\n",
              "\n",
              "    .dataframe tbody tr th {\n",
              "        vertical-align: top;\n",
              "    }\n",
              "\n",
              "    .dataframe thead th {\n",
              "        text-align: right;\n",
              "    }\n",
              "</style>\n",
              "<table border=\"1\" class=\"dataframe\">\n",
              "  <thead>\n",
              "    <tr style=\"text-align: right;\">\n",
              "      <th></th>\n",
              "      <th>book_id</th>\n",
              "      <th>book_title</th>\n",
              "      <th>user_id</th>\n",
              "      <th>helpfulness</th>\n",
              "      <th>rating</th>\n",
              "      <th>review</th>\n",
              "    </tr>\n",
              "  </thead>\n",
              "  <tbody>\n",
              "    <tr>\n",
              "      <th>1747</th>\n",
              "      <td>B000N6DDJQ</td>\n",
              "      <td>The Scarlet Letter A Romance</td>\n",
              "      <td>AUM3YMZ0YRJE0</td>\n",
              "      <td>0.500000</td>\n",
              "      <td>5.0</td>\n",
              "      <td>WHen I finally started reading this classic, I...</td>\n",
              "    </tr>\n",
              "    <tr>\n",
              "      <th>1807</th>\n",
              "      <td>B000N6DDJQ</td>\n",
              "      <td>The Scarlet Letter A Romance</td>\n",
              "      <td>AMKZHBOK7VMQR</td>\n",
              "      <td>1.000000</td>\n",
              "      <td>5.0</td>\n",
              "      <td>Hawthorne wrote a masterful work of historical...</td>\n",
              "    </tr>\n",
              "    <tr>\n",
              "      <th>1820</th>\n",
              "      <td>B000N6DDJQ</td>\n",
              "      <td>The Scarlet Letter A Romance</td>\n",
              "      <td>AWLFVCT9128JV</td>\n",
              "      <td>NaN</td>\n",
              "      <td>4.0</td>\n",
              "      <td>I don't suppose anything can ruin a book more ...</td>\n",
              "    </tr>\n",
              "    <tr>\n",
              "      <th>1829</th>\n",
              "      <td>B000N6DDJQ</td>\n",
              "      <td>The Scarlet Letter A Romance</td>\n",
              "      <td>ABN5K7K1TM1QA</td>\n",
              "      <td>0.904762</td>\n",
              "      <td>5.0</td>\n",
              "      <td>\"All have sinned and fall short of the glory o...</td>\n",
              "    </tr>\n",
              "    <tr>\n",
              "      <th>1830</th>\n",
              "      <td>B000N6DDJQ</td>\n",
              "      <td>The Scarlet Letter A Romance</td>\n",
              "      <td>A3IKBHODOTYYHM</td>\n",
              "      <td>0.866667</td>\n",
              "      <td>4.0</td>\n",
              "      <td>I think the many readers who were forced to pa...</td>\n",
              "    </tr>\n",
              "    <tr>\n",
              "      <th>...</th>\n",
              "      <td>...</td>\n",
              "      <td>...</td>\n",
              "      <td>...</td>\n",
              "      <td>...</td>\n",
              "      <td>...</td>\n",
              "      <td>...</td>\n",
              "    </tr>\n",
              "    <tr>\n",
              "      <th>2999629</th>\n",
              "      <td>B000P91JYW</td>\n",
              "      <td>Jane Eyre</td>\n",
              "      <td>A1D2C0WDCSHUWZ</td>\n",
              "      <td>0.833333</td>\n",
              "      <td>5.0</td>\n",
              "      <td>It's hard to imagine a better gothic romance t...</td>\n",
              "    </tr>\n",
              "    <tr>\n",
              "      <th>2999631</th>\n",
              "      <td>B000P91JYW</td>\n",
              "      <td>Jane Eyre</td>\n",
              "      <td>A14OJS0VWMOSWO</td>\n",
              "      <td>0.900000</td>\n",
              "      <td>5.0</td>\n",
              "      <td>Amanda Root's rendition of Charlotte Bronte's ...</td>\n",
              "    </tr>\n",
              "    <tr>\n",
              "      <th>2999633</th>\n",
              "      <td>B000P91JYW</td>\n",
              "      <td>Jane Eyre</td>\n",
              "      <td>A1D2C0WDCSHUWZ</td>\n",
              "      <td>1.000000</td>\n",
              "      <td>5.0</td>\n",
              "      <td>It's hard to imagine a better gothic romance t...</td>\n",
              "    </tr>\n",
              "    <tr>\n",
              "      <th>2999641</th>\n",
              "      <td>B000P91JYW</td>\n",
              "      <td>Jane Eyre</td>\n",
              "      <td>A1T17LMQABMBN5</td>\n",
              "      <td>1.000000</td>\n",
              "      <td>5.0</td>\n",
              "      <td>Charlotte Bronte created quite an admirable he...</td>\n",
              "    </tr>\n",
              "    <tr>\n",
              "      <th>2999646</th>\n",
              "      <td>B000P91JYW</td>\n",
              "      <td>Jane Eyre</td>\n",
              "      <td>AJQ1S39GZBKUG</td>\n",
              "      <td>1.000000</td>\n",
              "      <td>5.0</td>\n",
              "      <td>Concerning on English classic novels `Jane Eyr...</td>\n",
              "    </tr>\n",
              "  </tbody>\n",
              "</table>\n",
              "<p>20933 rows × 6 columns</p>\n",
              "</div>\n",
              "      <button class=\"colab-df-convert\" onclick=\"convertToInteractive('df-9639ff7b-7193-4d20-9c4a-73549b752c58')\"\n",
              "              title=\"Convert this dataframe to an interactive table.\"\n",
              "              style=\"display:none;\">\n",
              "        \n",
              "  <svg xmlns=\"http://www.w3.org/2000/svg\" height=\"24px\"viewBox=\"0 0 24 24\"\n",
              "       width=\"24px\">\n",
              "    <path d=\"M0 0h24v24H0V0z\" fill=\"none\"/>\n",
              "    <path d=\"M18.56 5.44l.94 2.06.94-2.06 2.06-.94-2.06-.94-.94-2.06-.94 2.06-2.06.94zm-11 1L8.5 8.5l.94-2.06 2.06-.94-2.06-.94L8.5 2.5l-.94 2.06-2.06.94zm10 10l.94 2.06.94-2.06 2.06-.94-2.06-.94-.94-2.06-.94 2.06-2.06.94z\"/><path d=\"M17.41 7.96l-1.37-1.37c-.4-.4-.92-.59-1.43-.59-.52 0-1.04.2-1.43.59L10.3 9.45l-7.72 7.72c-.78.78-.78 2.05 0 2.83L4 21.41c.39.39.9.59 1.41.59.51 0 1.02-.2 1.41-.59l7.78-7.78 2.81-2.81c.8-.78.8-2.07 0-2.86zM5.41 20L4 18.59l7.72-7.72 1.47 1.35L5.41 20z\"/>\n",
              "  </svg>\n",
              "      </button>\n",
              "      \n",
              "  <style>\n",
              "    .colab-df-container {\n",
              "      display:flex;\n",
              "      flex-wrap:wrap;\n",
              "      gap: 12px;\n",
              "    }\n",
              "\n",
              "    .colab-df-convert {\n",
              "      background-color: #E8F0FE;\n",
              "      border: none;\n",
              "      border-radius: 50%;\n",
              "      cursor: pointer;\n",
              "      display: none;\n",
              "      fill: #1967D2;\n",
              "      height: 32px;\n",
              "      padding: 0 0 0 0;\n",
              "      width: 32px;\n",
              "    }\n",
              "\n",
              "    .colab-df-convert:hover {\n",
              "      background-color: #E2EBFA;\n",
              "      box-shadow: 0px 1px 2px rgba(60, 64, 67, 0.3), 0px 1px 3px 1px rgba(60, 64, 67, 0.15);\n",
              "      fill: #174EA6;\n",
              "    }\n",
              "\n",
              "    [theme=dark] .colab-df-convert {\n",
              "      background-color: #3B4455;\n",
              "      fill: #D2E3FC;\n",
              "    }\n",
              "\n",
              "    [theme=dark] .colab-df-convert:hover {\n",
              "      background-color: #434B5C;\n",
              "      box-shadow: 0px 1px 3px 1px rgba(0, 0, 0, 0.15);\n",
              "      filter: drop-shadow(0px 1px 2px rgba(0, 0, 0, 0.3));\n",
              "      fill: #FFFFFF;\n",
              "    }\n",
              "  </style>\n",
              "\n",
              "      <script>\n",
              "        const buttonEl =\n",
              "          document.querySelector('#df-9639ff7b-7193-4d20-9c4a-73549b752c58 button.colab-df-convert');\n",
              "        buttonEl.style.display =\n",
              "          google.colab.kernel.accessAllowed ? 'block' : 'none';\n",
              "\n",
              "        async function convertToInteractive(key) {\n",
              "          const element = document.querySelector('#df-9639ff7b-7193-4d20-9c4a-73549b752c58');\n",
              "          const dataTable =\n",
              "            await google.colab.kernel.invokeFunction('convertToInteractive',\n",
              "                                                     [key], {});\n",
              "          if (!dataTable) return;\n",
              "\n",
              "          const docLinkHtml = 'Like what you see? Visit the ' +\n",
              "            '<a target=\"_blank\" href=https://colab.research.google.com/notebooks/data_table.ipynb>data table notebook</a>'\n",
              "            + ' to learn more about interactive tables.';\n",
              "          element.innerHTML = '';\n",
              "          dataTable['output_type'] = 'display_data';\n",
              "          await google.colab.output.renderOutput(dataTable, element);\n",
              "          const docLink = document.createElement('div');\n",
              "          docLink.innerHTML = docLinkHtml;\n",
              "          element.appendChild(docLink);\n",
              "        }\n",
              "      </script>\n",
              "    </div>\n",
              "  </div>\n",
              "  "
            ],
            "text/plain": [
              "            book_id                    book_title         user_id  \\\n",
              "1747     B000N6DDJQ  The Scarlet Letter A Romance   AUM3YMZ0YRJE0   \n",
              "1807     B000N6DDJQ  The Scarlet Letter A Romance   AMKZHBOK7VMQR   \n",
              "1820     B000N6DDJQ  The Scarlet Letter A Romance   AWLFVCT9128JV   \n",
              "1829     B000N6DDJQ  The Scarlet Letter A Romance   ABN5K7K1TM1QA   \n",
              "1830     B000N6DDJQ  The Scarlet Letter A Romance  A3IKBHODOTYYHM   \n",
              "...             ...                           ...             ...   \n",
              "2999629  B000P91JYW                     Jane Eyre  A1D2C0WDCSHUWZ   \n",
              "2999631  B000P91JYW                     Jane Eyre  A14OJS0VWMOSWO   \n",
              "2999633  B000P91JYW                     Jane Eyre  A1D2C0WDCSHUWZ   \n",
              "2999641  B000P91JYW                     Jane Eyre  A1T17LMQABMBN5   \n",
              "2999646  B000P91JYW                     Jane Eyre   AJQ1S39GZBKUG   \n",
              "\n",
              "         helpfulness  rating  \\\n",
              "1747        0.500000     5.0   \n",
              "1807        1.000000     5.0   \n",
              "1820             NaN     4.0   \n",
              "1829        0.904762     5.0   \n",
              "1830        0.866667     4.0   \n",
              "...              ...     ...   \n",
              "2999629     0.833333     5.0   \n",
              "2999631     0.900000     5.0   \n",
              "2999633     1.000000     5.0   \n",
              "2999641     1.000000     5.0   \n",
              "2999646     1.000000     5.0   \n",
              "\n",
              "                                                    review  \n",
              "1747     WHen I finally started reading this classic, I...  \n",
              "1807     Hawthorne wrote a masterful work of historical...  \n",
              "1820     I don't suppose anything can ruin a book more ...  \n",
              "1829     \"All have sinned and fall short of the glory o...  \n",
              "1830     I think the many readers who were forced to pa...  \n",
              "...                                                    ...  \n",
              "2999629  It's hard to imagine a better gothic romance t...  \n",
              "2999631  Amanda Root's rendition of Charlotte Bronte's ...  \n",
              "2999633  It's hard to imagine a better gothic romance t...  \n",
              "2999641  Charlotte Bronte created quite an admirable he...  \n",
              "2999646  Concerning on English classic novels `Jane Eyr...  \n",
              "\n",
              "[20933 rows x 6 columns]"
            ]
          },
          "execution_count": 88,
          "metadata": {},
          "output_type": "execute_result"
        }
      ],
      "source": [
        "final_ratings"
      ]
    },
    {
      "cell_type": "code",
      "execution_count": null,
      "id": "VkkV-1xMNy8K",
      "metadata": {
        "colab": {
          "base_uri": "https://localhost:8080/"
        },
        "id": "VkkV-1xMNy8K",
        "outputId": "dfec3f5e-895d-44ac-9b48-f9503b926690"
      },
      "outputs": [
        {
          "data": {
            "text/plain": [
              "407"
            ]
          },
          "execution_count": 89,
          "metadata": {},
          "output_type": "execute_result"
        }
      ],
      "source": [
        "final_ratings.book_title.nunique()"
      ]
    },
    {
      "cell_type": "code",
      "execution_count": null,
      "id": "f9zqhVVCKKuV",
      "metadata": {
        "colab": {
          "base_uri": "https://localhost:8080/"
        },
        "id": "f9zqhVVCKKuV",
        "outputId": "9215eef0-cb9e-450e-fdab-2f8e14547c05"
      },
      "outputs": [
        {
          "data": {
            "text/plain": [
              "842"
            ]
          },
          "execution_count": 90,
          "metadata": {},
          "output_type": "execute_result"
        }
      ],
      "source": [
        "final_ratings.book_id.nunique()"
      ]
    },
    {
      "cell_type": "code",
      "execution_count": null,
      "id": "wcEhuzgFfebA",
      "metadata": {
        "id": "wcEhuzgFfebA"
      },
      "outputs": [],
      "source": [
        "#final_ratings.to_csv('final_ratings.csv',index=False)\n",
        "\n",
        "final_ratings.to_csv('/content/drive/My Drive/final_rating_content_based.csv', index=False)"
      ]
    },
    {
      "cell_type": "code",
      "execution_count": null,
      "id": "u3Trhje3gCCw",
      "metadata": {
        "colab": {
          "base_uri": "https://localhost:8080/"
        },
        "id": "u3Trhje3gCCw",
        "outputId": "87b5d323-3f52-475f-8483-8f823cbd5f6b"
      },
      "outputs": [
        {
          "name": "stdout",
          "output_type": "stream",
          "text": [
            "books_clean.csv  drive\tsample_data\n"
          ]
        }
      ],
      "source": [
        "!ls /content/"
      ]
    }
  ],
  "metadata": {
    "colab": {
      "provenance": []
    },
    "kernelspec": {
      "display_name": "Python 3 (ipykernel)",
      "language": "python",
      "name": "python3"
    },
    "language_info": {
      "codemirror_mode": {
        "name": "ipython",
        "version": 3
      },
      "file_extension": ".py",
      "mimetype": "text/x-python",
      "name": "python",
      "nbconvert_exporter": "python",
      "pygments_lexer": "ipython3",
      "version": "3.10.11"
    }
  },
  "nbformat": 4,
  "nbformat_minor": 5
}
